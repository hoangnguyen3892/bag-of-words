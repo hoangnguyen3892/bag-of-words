{
 "cells": [
  {
   "cell_type": "markdown",
   "metadata": {
    "deletable": true,
    "editable": true
   },
   "source": [
    "[Tutorial](https://www.kaggle.com/c/word2vec-nlp-tutorial#part-2-word-vectors). This part of the tutorial will focus on using distributed word vectors created by the Word2Vec algorithm."
   ]
  },
  {
   "cell_type": "code",
   "execution_count": 1,
   "metadata": {
    "collapsed": true,
    "deletable": true,
    "editable": true
   },
   "outputs": [],
   "source": [
    "import pandas as pd"
   ]
  },
  {
   "cell_type": "code",
   "execution_count": 2,
   "metadata": {
    "collapsed": true,
    "deletable": true,
    "editable": true
   },
   "outputs": [],
   "source": [
    "# Import various modules for string cleaning\n",
    "from bs4 import BeautifulSoup\n",
    "import re\n",
    "from nltk.corpus import stopwords\n",
    "import nltk.data"
   ]
  },
  {
   "cell_type": "code",
   "execution_count": 3,
   "metadata": {
    "collapsed": true
   },
   "outputs": [],
   "source": [
    "import warnings\n",
    "warnings.filterwarnings('ignore')"
   ]
  },
  {
   "cell_type": "code",
   "execution_count": 4,
   "metadata": {
    "collapsed": false,
    "deletable": true,
    "editable": true
   },
   "outputs": [],
   "source": [
    "# Read data from files \n",
    "train = pd.read_csv(\"../input/labeledTrainData.tsv\", header=0, delimiter=\"\\t\", quoting=3)\n",
    "\n",
    "test = pd.read_csv(\"../input/testData.tsv\", header=0, delimiter=\"\\t\", quoting=3)\n",
    "\n",
    "unlabeled_train = pd.read_csv(\"../input/unlabeledTrainData.tsv\", header=0, delimiter=\"\\t\", quoting=3)"
   ]
  },
  {
   "cell_type": "code",
   "execution_count": 5,
   "metadata": {
    "collapsed": false,
    "deletable": true,
    "editable": true
   },
   "outputs": [
    {
     "name": "stdout",
     "output_type": "stream",
     "text": [
      "Read 25000 labeled train reviews, 25000 labeled test reviews, and 50000 unlabeled reviews\n"
     ]
    }
   ],
   "source": [
    "# Verify the number of reviews that were read (100,000 in total)\n",
    "print(\"Read %d labeled train reviews, %d labeled test reviews, and %d unlabeled reviews\" % (train[\"review\"].size,  \n",
    "                                                                                            test[\"review\"].size, \n",
    "                                                                                            unlabeled_train[\"review\"].size))"
   ]
  },
  {
   "cell_type": "markdown",
   "metadata": {},
   "source": [
    "# Preparing to train model"
   ]
  },
  {
   "cell_type": "markdown",
   "metadata": {
    "deletable": true,
    "editable": true
   },
   "source": [
    "The functions we write to clean the data are also similar to Part 1, although now there are a couple of differences. \n",
    "\n",
    "- First, to train Word2Vec it is better not to remove stop words because the algorithm relies on the broader context of the sentence in order to produce high-quality word vectors. For this reason, we will make stop word removal optional in the functions below. \n",
    "\n",
    "- It also might be better not to remove numbers."
   ]
  },
  {
   "cell_type": "code",
   "execution_count": 6,
   "metadata": {
    "collapsed": true,
    "deletable": true,
    "editable": true
   },
   "outputs": [],
   "source": [
    "# Here it may be better if we remove number\n",
    "def review_to_wordlist(review, remove_stopwords=False):\n",
    "    # Function to convert a document to a sequence of words,\n",
    "    # optionally removing stop words.  Returns a list of words.\n",
    "    #\n",
    "    # 1. Remove HTML\n",
    "    review_text = BeautifulSoup(review, \"lxml\").get_text()\n",
    "    #  \n",
    "    # 2. Remove non-letters --> Remove non-letters/non-numbers\n",
    "    review_text = re.sub(\"[^a-zA-Z0-9]\",\" \", review_text)\n",
    "    #\n",
    "    # 3. Convert words to lower case and split them\n",
    "    words = review_text.lower().split()\n",
    "    #\n",
    "    # 4. Optionally remove stop words and numbers (false by default)\n",
    "    if remove_stopwords:\n",
    "        stops = set(stopwords.words(\"english\"))\n",
    "        words = [w for w in words if not w in stops]\n",
    "        \n",
    "    #\n",
    "    # 5. Return a list of words\n",
    "    return(words)"
   ]
  },
  {
   "cell_type": "code",
   "execution_count": 7,
   "metadata": {
    "collapsed": false,
    "deletable": true,
    "editable": true
   },
   "outputs": [],
   "source": [
    "# Load the punkt tokenizer\n",
    "tokenizer = nltk.data.load('tokenizers/punkt/english.pickle')"
   ]
  },
  {
   "cell_type": "code",
   "execution_count": 8,
   "metadata": {
    "collapsed": true,
    "deletable": true,
    "editable": true
   },
   "outputs": [],
   "source": [
    "# Define a function to split a review into parsed sentences\n",
    "def review_to_sentences(review, tokenizer, remove_stopwords=False):\n",
    "    # Function to split a review into parsed sentences. Returns a \n",
    "    # list of sentences, where each sentence is a list of words\n",
    "    #\n",
    "    # 1. Use the NLTK tokenizer to split the paragraph into sentences\n",
    "    raw_sentences = tokenizer.tokenize(review.strip())\n",
    "    #\n",
    "    # 2. Loop over each sentence\n",
    "    sentences = []\n",
    "    for raw_sentence in raw_sentences:\n",
    "        # If a sentence is empty, skip it\n",
    "        if len(raw_sentence) > 0:\n",
    "            # Otherwise, call review_to_wordlist to get a list of words\n",
    "            sentences.append(review_to_wordlist(raw_sentence, remove_stopwords))\n",
    "    #\n",
    "    # Return the list of sentences (each sentence is a list of words,\n",
    "    # so this returns a list of lists\n",
    "    return sentences"
   ]
  },
  {
   "cell_type": "code",
   "execution_count": 9,
   "metadata": {
    "collapsed": false,
    "deletable": true,
    "editable": true
   },
   "outputs": [
    {
     "name": "stdout",
     "output_type": "stream",
     "text": [
      "Parsing sentences from training set\n",
      "Parsing sentences from unlabeled set\n"
     ]
    }
   ],
   "source": [
    "sentences = []  # Initialize an empty list of sentences\n",
    "\n",
    "print(\"Parsing sentences from training set\")\n",
    "for review in train[\"review\"]:\n",
    "    sentences += review_to_sentences(review, tokenizer)\n",
    "\n",
    "print(\"Parsing sentences from unlabeled set\")\n",
    "for review in unlabeled_train[\"review\"]:\n",
    "    sentences += review_to_sentences(review, tokenizer)"
   ]
  },
  {
   "cell_type": "code",
   "execution_count": 10,
   "metadata": {
    "collapsed": false,
    "deletable": true,
    "editable": true
   },
   "outputs": [
    {
     "data": {
      "text/plain": [
       "795538"
      ]
     },
     "execution_count": 10,
     "metadata": {},
     "output_type": "execute_result"
    }
   ],
   "source": [
    "len(sentences)"
   ]
  },
  {
   "cell_type": "code",
   "execution_count": 11,
   "metadata": {
    "collapsed": false,
    "deletable": true,
    "editable": true
   },
   "outputs": [
    {
     "data": {
      "text/plain": [
       "['with',\n",
       " 'all',\n",
       " 'this',\n",
       " 'stuff',\n",
       " 'going',\n",
       " 'down',\n",
       " 'at',\n",
       " 'the',\n",
       " 'moment',\n",
       " 'with',\n",
       " 'mj',\n",
       " 'i',\n",
       " 've',\n",
       " 'started',\n",
       " 'listening',\n",
       " 'to',\n",
       " 'his',\n",
       " 'music',\n",
       " 'watching',\n",
       " 'the',\n",
       " 'odd',\n",
       " 'documentary',\n",
       " 'here',\n",
       " 'and',\n",
       " 'there',\n",
       " 'watched',\n",
       " 'the',\n",
       " 'wiz',\n",
       " 'and',\n",
       " 'watched',\n",
       " 'moonwalker',\n",
       " 'again']"
      ]
     },
     "execution_count": 11,
     "metadata": {},
     "output_type": "execute_result"
    }
   ],
   "source": [
    "sentences[0]"
   ]
  },
  {
   "cell_type": "code",
   "execution_count": 12,
   "metadata": {
    "collapsed": false,
    "deletable": true,
    "editable": true
   },
   "outputs": [
    {
     "data": {
      "text/plain": [
       "['maybe',\n",
       " 'i',\n",
       " 'just',\n",
       " 'want',\n",
       " 'to',\n",
       " 'get',\n",
       " 'a',\n",
       " 'certain',\n",
       " 'insight',\n",
       " 'into',\n",
       " 'this',\n",
       " 'guy',\n",
       " 'who',\n",
       " 'i',\n",
       " 'thought',\n",
       " 'was',\n",
       " 'really',\n",
       " 'cool',\n",
       " 'in',\n",
       " 'the',\n",
       " 'eighties',\n",
       " 'just',\n",
       " 'to',\n",
       " 'maybe',\n",
       " 'make',\n",
       " 'up',\n",
       " 'my',\n",
       " 'mind',\n",
       " 'whether',\n",
       " 'he',\n",
       " 'is',\n",
       " 'guilty',\n",
       " 'or',\n",
       " 'innocent']"
      ]
     },
     "execution_count": 12,
     "metadata": {},
     "output_type": "execute_result"
    }
   ],
   "source": [
    "sentences[1]"
   ]
  },
  {
   "cell_type": "markdown",
   "metadata": {
    "collapsed": true,
    "deletable": true,
    "editable": true
   },
   "source": [
    "# Training and Saving model"
   ]
  },
  {
   "cell_type": "code",
   "execution_count": 14,
   "metadata": {
    "collapsed": true
   },
   "outputs": [],
   "source": [
    "# Import the built-in logging module and configure it so that Word2Vec \n",
    "# creates nice output messages\n",
    "import logging\n",
    "logging.basicConfig(format='%(asctime)s : %(levelname)s : %(message)s', level=logging.INFO)"
   ]
  },
  {
   "cell_type": "code",
   "execution_count": 15,
   "metadata": {
    "collapsed": true
   },
   "outputs": [],
   "source": [
    "# Set values for various parameters\n",
    "num_features = 300    # Word vector dimensionality                      \n",
    "min_word_count = 40   # Minimum word count                        \n",
    "num_workers = 4       # Number of threads to run in parallel\n",
    "context = 10          # Context window size                                                                                    \n",
    "downsampling = 1e-3   # Downsample setting for frequent words"
   ]
  },
  {
   "cell_type": "code",
   "execution_count": 17,
   "metadata": {
    "collapsed": true
   },
   "outputs": [
    {
     "name": "stderr",
     "output_type": "stream",
     "text": [
      "2017-05-02 10:54:02,028 : INFO : 'pattern' package not found; tag filters are not available for English\n",
      "2017-05-02 10:54:02,049 : INFO : collecting all words and their counts\n",
      "2017-05-02 10:54:02,051 : INFO : PROGRESS: at sentence #0, processed 0 words, keeping 0 word types\n",
      "2017-05-02 10:54:02,122 : INFO : PROGRESS: at sentence #10000, processed 227240 words, keeping 18038 word types\n",
      "2017-05-02 10:54:02,186 : INFO : PROGRESS: at sentence #20000, processed 454552 words, keeping 25323 word types\n"
     ]
    },
    {
     "name": "stdout",
     "output_type": "stream",
     "text": [
      "Training model...\n"
     ]
    },
    {
     "name": "stderr",
     "output_type": "stream",
     "text": [
      "2017-05-02 10:54:02,252 : INFO : PROGRESS: at sentence #30000, processed 675250 words, keeping 30477 word types\n",
      "2017-05-02 10:54:02,326 : INFO : PROGRESS: at sentence #40000, processed 902990 words, keeping 34862 word types\n",
      "2017-05-02 10:54:02,398 : INFO : PROGRESS: at sentence #50000, processed 1123470 words, keeping 38328 word types\n",
      "2017-05-02 10:54:02,475 : INFO : PROGRESS: at sentence #60000, processed 1346231 words, keeping 41337 word types\n",
      "2017-05-02 10:54:02,548 : INFO : PROGRESS: at sentence #70000, processed 1570663 words, keeping 43985 word types\n",
      "2017-05-02 10:54:02,629 : INFO : PROGRESS: at sentence #80000, processed 1791173 words, keeping 46399 word types\n",
      "2017-05-02 10:54:02,706 : INFO : PROGRESS: at sentence #90000, processed 2016631 words, keeping 48868 word types\n",
      "2017-05-02 10:54:02,772 : INFO : PROGRESS: at sentence #100000, processed 2239792 words, keeping 50979 word types\n",
      "2017-05-02 10:54:02,846 : INFO : PROGRESS: at sentence #110000, processed 2460728 words, keeping 52886 word types\n",
      "2017-05-02 10:54:02,927 : INFO : PROGRESS: at sentence #120000, processed 2684073 words, keeping 54961 word types\n",
      "2017-05-02 10:54:03,026 : INFO : PROGRESS: at sentence #130000, processed 2911015 words, keeping 56735 word types\n",
      "2017-05-02 10:54:03,113 : INFO : PROGRESS: at sentence #140000, processed 3125026 words, keeping 58284 word types\n",
      "2017-05-02 10:54:03,207 : INFO : PROGRESS: at sentence #150000, processed 3351867 words, keeping 60032 word types\n",
      "2017-05-02 10:54:03,275 : INFO : PROGRESS: at sentence #160000, processed 3575757 words, keeping 61626 word types\n",
      "2017-05-02 10:54:03,342 : INFO : PROGRESS: at sentence #170000, processed 3800351 words, keeping 63122 word types\n",
      "2017-05-02 10:54:03,405 : INFO : PROGRESS: at sentence #180000, processed 4022238 words, keeping 64569 word types\n",
      "2017-05-02 10:54:03,467 : INFO : PROGRESS: at sentence #190000, processed 4248713 words, keeping 65894 word types\n",
      "2017-05-02 10:54:03,530 : INFO : PROGRESS: at sentence #200000, processed 4474080 words, keeping 67209 word types\n",
      "2017-05-02 10:54:03,596 : INFO : PROGRESS: at sentence #210000, processed 4696805 words, keeping 68539 word types\n",
      "2017-05-02 10:54:03,664 : INFO : PROGRESS: at sentence #220000, processed 4923149 words, keeping 69877 word types\n",
      "2017-05-02 10:54:03,728 : INFO : PROGRESS: at sentence #230000, processed 5146908 words, keeping 71156 word types\n",
      "2017-05-02 10:54:03,800 : INFO : PROGRESS: at sentence #240000, processed 5375741 words, keeping 72394 word types\n",
      "2017-05-02 10:54:03,868 : INFO : PROGRESS: at sentence #250000, processed 5591102 words, keeping 73612 word types\n",
      "2017-05-02 10:54:03,937 : INFO : PROGRESS: at sentence #260000, processed 5812365 words, keeping 74770 word types\n",
      "2017-05-02 10:54:04,003 : INFO : PROGRESS: at sentence #270000, processed 6035002 words, keeping 76103 word types\n",
      "2017-05-02 10:54:04,070 : INFO : PROGRESS: at sentence #280000, processed 6262136 words, keeping 77729 word types\n",
      "2017-05-02 10:54:04,138 : INFO : PROGRESS: at sentence #290000, processed 6486563 words, keeping 79221 word types\n",
      "2017-05-02 10:54:04,230 : INFO : PROGRESS: at sentence #300000, processed 6712513 words, keeping 80586 word types\n",
      "2017-05-02 10:54:04,324 : INFO : PROGRESS: at sentence #310000, processed 6939080 words, keeping 81939 word types\n",
      "2017-05-02 10:54:04,424 : INFO : PROGRESS: at sentence #320000, processed 7165244 words, keeping 83299 word types\n",
      "2017-05-02 10:54:04,498 : INFO : PROGRESS: at sentence #330000, processed 7388226 words, keeping 84560 word types\n",
      "2017-05-02 10:54:04,563 : INFO : PROGRESS: at sentence #340000, processed 7618938 words, keeping 85836 word types\n",
      "2017-05-02 10:54:04,636 : INFO : PROGRESS: at sentence #350000, processed 7843518 words, keeping 87016 word types\n",
      "2017-05-02 10:54:04,706 : INFO : PROGRESS: at sentence #360000, processed 8065281 words, keeping 88215 word types\n",
      "2017-05-02 10:54:04,774 : INFO : PROGRESS: at sentence #370000, processed 8293691 words, keeping 89349 word types\n",
      "2017-05-02 10:54:04,837 : INFO : PROGRESS: at sentence #380000, processed 8520134 words, keeping 90542 word types\n",
      "2017-05-02 10:54:04,917 : INFO : PROGRESS: at sentence #390000, processed 8751074 words, keeping 91595 word types\n",
      "2017-05-02 10:54:04,982 : INFO : PROGRESS: at sentence #400000, processed 8975290 words, keeping 92645 word types\n",
      "2017-05-02 10:54:05,057 : INFO : PROGRESS: at sentence #410000, processed 9197908 words, keeping 93632 word types\n",
      "2017-05-02 10:54:05,128 : INFO : PROGRESS: at sentence #420000, processed 9420250 words, keeping 94686 word types\n",
      "2017-05-02 10:54:05,208 : INFO : PROGRESS: at sentence #430000, processed 9649144 words, keeping 95727 word types\n",
      "2017-05-02 10:54:05,277 : INFO : PROGRESS: at sentence #440000, processed 9877201 words, keeping 96726 word types\n",
      "2017-05-02 10:54:05,346 : INFO : PROGRESS: at sentence #450000, processed 10102194 words, keeping 97881 word types\n",
      "2017-05-02 10:54:05,417 : INFO : PROGRESS: at sentence #460000, processed 10336324 words, keeping 98956 word types\n",
      "2017-05-02 10:54:05,484 : INFO : PROGRESS: at sentence #470000, processed 10565467 words, keeping 99833 word types\n",
      "2017-05-02 10:54:05,552 : INFO : PROGRESS: at sentence #480000, processed 10787113 words, keeping 100784 word types\n",
      "2017-05-02 10:54:05,620 : INFO : PROGRESS: at sentence #490000, processed 11015191 words, keeping 101865 word types\n",
      "2017-05-02 10:54:05,685 : INFO : PROGRESS: at sentence #500000, processed 11238167 words, keeping 102788 word types\n",
      "2017-05-02 10:54:05,758 : INFO : PROGRESS: at sentence #510000, processed 11464728 words, keeping 103736 word types\n",
      "2017-05-02 10:54:05,827 : INFO : PROGRESS: at sentence #520000, processed 11689439 words, keeping 104655 word types\n",
      "2017-05-02 10:54:05,894 : INFO : PROGRESS: at sentence #530000, processed 11915119 words, keeping 105488 word types\n",
      "2017-05-02 10:54:05,961 : INFO : PROGRESS: at sentence #540000, processed 12141102 words, keeping 106387 word types\n",
      "2017-05-02 10:54:06,032 : INFO : PROGRESS: at sentence #550000, processed 12367916 words, keeping 107274 word types\n",
      "2017-05-02 10:54:06,100 : INFO : PROGRESS: at sentence #560000, processed 12590478 words, keeping 108159 word types\n",
      "2017-05-02 10:54:06,171 : INFO : PROGRESS: at sentence #570000, processed 12820775 words, keeping 108966 word types\n",
      "2017-05-02 10:54:06,242 : INFO : PROGRESS: at sentence #580000, processed 13043532 words, keeping 109857 word types\n",
      "2017-05-02 10:54:06,312 : INFO : PROGRESS: at sentence #590000, processed 13270267 words, keeping 110728 word types\n",
      "2017-05-02 10:54:06,381 : INFO : PROGRESS: at sentence #600000, processed 13493776 words, keeping 111479 word types\n",
      "2017-05-02 10:54:06,441 : INFO : PROGRESS: at sentence #610000, processed 13716049 words, keeping 112381 word types\n",
      "2017-05-02 10:54:06,523 : INFO : PROGRESS: at sentence #620000, processed 13943768 words, keeping 113155 word types\n",
      "2017-05-02 10:54:06,633 : INFO : PROGRESS: at sentence #630000, processed 14169342 words, keeping 113955 word types\n",
      "2017-05-02 10:54:06,728 : INFO : PROGRESS: at sentence #640000, processed 14391303 words, keeping 114795 word types\n",
      "2017-05-02 10:54:06,828 : INFO : PROGRESS: at sentence #650000, processed 14618428 words, keeping 115604 word types\n",
      "2017-05-02 10:54:06,920 : INFO : PROGRESS: at sentence #660000, processed 14842390 words, keeping 116381 word types\n",
      "2017-05-02 10:54:07,012 : INFO : PROGRESS: at sentence #670000, processed 15067050 words, keeping 117102 word types\n",
      "2017-05-02 10:54:07,110 : INFO : PROGRESS: at sentence #680000, processed 15293188 words, keeping 117827 word types\n",
      "2017-05-02 10:54:07,204 : INFO : PROGRESS: at sentence #690000, processed 15516580 words, keeping 118624 word types\n",
      "2017-05-02 10:54:07,304 : INFO : PROGRESS: at sentence #700000, processed 15746437 words, keeping 119455 word types\n",
      "2017-05-02 10:54:07,392 : INFO : PROGRESS: at sentence #710000, processed 15970704 words, keeping 120117 word types\n",
      "2017-05-02 10:54:07,491 : INFO : PROGRESS: at sentence #720000, processed 16197245 words, keeping 120751 word types\n",
      "2017-05-02 10:54:07,583 : INFO : PROGRESS: at sentence #730000, processed 16424876 words, keeping 121499 word types\n",
      "2017-05-02 10:54:07,658 : INFO : PROGRESS: at sentence #740000, processed 16647235 words, keeping 122228 word types\n",
      "2017-05-02 10:54:07,745 : INFO : PROGRESS: at sentence #750000, processed 16866895 words, keeping 122879 word types\n",
      "2017-05-02 10:54:07,823 : INFO : PROGRESS: at sentence #760000, processed 17087572 words, keeping 123525 word types\n",
      "2017-05-02 10:54:07,892 : INFO : PROGRESS: at sentence #770000, processed 17316051 words, keeping 124312 word types\n",
      "2017-05-02 10:54:08,012 : INFO : PROGRESS: at sentence #780000, processed 17547549 words, keeping 125038 word types\n",
      "2017-05-02 10:54:08,089 : INFO : PROGRESS: at sentence #790000, processed 17775786 words, keeping 125728 word types\n",
      "2017-05-02 10:54:08,133 : INFO : collected 126175 word types from a corpus of 17899490 raw words and 795538 sentences\n",
      "2017-05-02 10:54:08,134 : INFO : Loading a fresh vocabulary\n",
      "2017-05-02 10:54:08,271 : INFO : min_count=40 retains 16731 unique words (13% of original 126175, drops 109444)\n",
      "2017-05-02 10:54:08,272 : INFO : min_count=40 leaves 17333435 word corpus (96% of original 17899490, drops 566055)\n",
      "2017-05-02 10:54:08,348 : INFO : deleting the raw counts dictionary of 126175 items\n",
      "2017-05-02 10:54:08,359 : INFO : sample=0.001 downsamples 48 most-common words\n",
      "2017-05-02 10:54:08,361 : INFO : downsampling leaves estimated 12861120 word corpus (74.2% of prior 17333435)\n",
      "2017-05-02 10:54:08,364 : INFO : estimated required memory for 16731 words and 300 dimensions: 48519900 bytes\n",
      "2017-05-02 10:54:08,462 : INFO : resetting layer weights\n",
      "2017-05-02 10:54:08,809 : INFO : training model with 4 workers on 16731 vocabulary and 300 features, using sg=0 hs=0 sample=0.001 negative=5 window=10\n",
      "2017-05-02 10:54:08,810 : INFO : expecting 795538 sentences, matching count from corpus used for vocabulary survey\n",
      "2017-05-02 10:54:09,834 : INFO : PROGRESS: at 0.79% examples, 505364 words/s, in_qsize 7, out_qsize 0\n",
      "2017-05-02 10:54:10,850 : INFO : PROGRESS: at 1.70% examples, 538409 words/s, in_qsize 7, out_qsize 0\n",
      "2017-05-02 10:54:11,854 : INFO : PROGRESS: at 2.71% examples, 573359 words/s, in_qsize 8, out_qsize 0\n",
      "2017-05-02 10:54:12,871 : INFO : PROGRESS: at 3.78% examples, 597695 words/s, in_qsize 7, out_qsize 0\n",
      "2017-05-02 10:54:13,874 : INFO : PROGRESS: at 4.78% examples, 605399 words/s, in_qsize 7, out_qsize 0\n",
      "2017-05-02 10:54:14,890 : INFO : PROGRESS: at 5.75% examples, 606774 words/s, in_qsize 8, out_qsize 0\n",
      "2017-05-02 10:54:15,906 : INFO : PROGRESS: at 6.71% examples, 604690 words/s, in_qsize 8, out_qsize 1\n",
      "2017-05-02 10:54:16,917 : INFO : PROGRESS: at 7.73% examples, 610746 words/s, in_qsize 6, out_qsize 1\n",
      "2017-05-02 10:54:17,928 : INFO : PROGRESS: at 8.56% examples, 602025 words/s, in_qsize 7, out_qsize 0\n",
      "2017-05-02 10:54:18,943 : INFO : PROGRESS: at 9.46% examples, 598974 words/s, in_qsize 8, out_qsize 0\n",
      "2017-05-02 10:54:19,949 : INFO : PROGRESS: at 10.49% examples, 604818 words/s, in_qsize 6, out_qsize 1\n",
      "2017-05-02 10:54:20,954 : INFO : PROGRESS: at 11.24% examples, 594857 words/s, in_qsize 7, out_qsize 0\n",
      "2017-05-02 10:54:21,958 : INFO : PROGRESS: at 12.15% examples, 594120 words/s, in_qsize 7, out_qsize 0\n",
      "2017-05-02 10:54:22,968 : INFO : PROGRESS: at 12.88% examples, 585197 words/s, in_qsize 7, out_qsize 0\n",
      "2017-05-02 10:54:23,977 : INFO : PROGRESS: at 13.81% examples, 585994 words/s, in_qsize 7, out_qsize 0\n",
      "2017-05-02 10:54:24,984 : INFO : PROGRESS: at 14.50% examples, 577005 words/s, in_qsize 7, out_qsize 0\n",
      "2017-05-02 10:54:26,008 : INFO : PROGRESS: at 15.36% examples, 574754 words/s, in_qsize 6, out_qsize 1\n",
      "2017-05-02 10:54:27,019 : INFO : PROGRESS: at 16.21% examples, 572810 words/s, in_qsize 7, out_qsize 0\n",
      "2017-05-02 10:54:28,027 : INFO : PROGRESS: at 17.01% examples, 569622 words/s, in_qsize 8, out_qsize 0\n",
      "2017-05-02 10:54:29,056 : INFO : PROGRESS: at 17.78% examples, 565127 words/s, in_qsize 6, out_qsize 1\n",
      "2017-05-02 10:54:30,058 : INFO : PROGRESS: at 18.69% examples, 566120 words/s, in_qsize 7, out_qsize 0\n",
      "2017-05-02 10:54:31,071 : INFO : PROGRESS: at 19.54% examples, 564857 words/s, in_qsize 7, out_qsize 0\n",
      "2017-05-02 10:54:32,090 : INFO : PROGRESS: at 20.49% examples, 566636 words/s, in_qsize 7, out_qsize 0\n",
      "2017-05-02 10:54:33,102 : INFO : PROGRESS: at 21.38% examples, 566325 words/s, in_qsize 7, out_qsize 0\n",
      "2017-05-02 10:54:34,125 : INFO : PROGRESS: at 22.06% examples, 560462 words/s, in_qsize 7, out_qsize 0\n",
      "2017-05-02 10:54:35,131 : INFO : PROGRESS: at 22.81% examples, 557316 words/s, in_qsize 7, out_qsize 0\n",
      "2017-05-02 10:54:36,157 : INFO : PROGRESS: at 23.69% examples, 556868 words/s, in_qsize 7, out_qsize 0\n",
      "2017-05-02 10:54:37,159 : INFO : PROGRESS: at 24.46% examples, 554391 words/s, in_qsize 8, out_qsize 0\n",
      "2017-05-02 10:54:38,165 : INFO : PROGRESS: at 25.35% examples, 554945 words/s, in_qsize 7, out_qsize 0\n",
      "2017-05-02 10:54:39,176 : INFO : PROGRESS: at 26.31% examples, 556525 words/s, in_qsize 6, out_qsize 1\n",
      "2017-05-02 10:54:40,178 : INFO : PROGRESS: at 27.25% examples, 557907 words/s, in_qsize 7, out_qsize 0\n",
      "2017-05-02 10:54:41,186 : INFO : PROGRESS: at 28.13% examples, 558272 words/s, in_qsize 8, out_qsize 1\n",
      "2017-05-02 10:54:42,203 : INFO : PROGRESS: at 29.06% examples, 559097 words/s, in_qsize 7, out_qsize 0\n",
      "2017-05-02 10:54:43,218 : INFO : PROGRESS: at 29.97% examples, 559900 words/s, in_qsize 7, out_qsize 0\n",
      "2017-05-02 10:54:44,223 : INFO : PROGRESS: at 30.93% examples, 561424 words/s, in_qsize 7, out_qsize 0\n",
      "2017-05-02 10:54:45,234 : INFO : PROGRESS: at 31.80% examples, 561387 words/s, in_qsize 7, out_qsize 0\n",
      "2017-05-02 10:54:46,237 : INFO : PROGRESS: at 32.70% examples, 561852 words/s, in_qsize 7, out_qsize 0\n",
      "2017-05-02 10:54:47,245 : INFO : PROGRESS: at 33.56% examples, 561487 words/s, in_qsize 7, out_qsize 0\n",
      "2017-05-02 10:54:48,256 : INFO : PROGRESS: at 34.44% examples, 561659 words/s, in_qsize 6, out_qsize 1\n",
      "2017-05-02 10:54:49,266 : INFO : PROGRESS: at 35.33% examples, 561641 words/s, in_qsize 7, out_qsize 0\n",
      "2017-05-02 10:54:50,268 : INFO : PROGRESS: at 36.25% examples, 562421 words/s, in_qsize 7, out_qsize 0\n",
      "2017-05-02 10:54:51,277 : INFO : PROGRESS: at 37.11% examples, 562062 words/s, in_qsize 7, out_qsize 0\n",
      "2017-05-02 10:54:52,288 : INFO : PROGRESS: at 37.74% examples, 558394 words/s, in_qsize 8, out_qsize 0\n",
      "2017-05-02 10:54:53,295 : INFO : PROGRESS: at 38.27% examples, 553336 words/s, in_qsize 7, out_qsize 0\n",
      "2017-05-02 10:54:54,296 : INFO : PROGRESS: at 39.00% examples, 551407 words/s, in_qsize 7, out_qsize 0\n",
      "2017-05-02 10:54:55,319 : INFO : PROGRESS: at 39.79% examples, 550380 words/s, in_qsize 8, out_qsize 0\n",
      "2017-05-02 10:54:56,329 : INFO : PROGRESS: at 40.57% examples, 549238 words/s, in_qsize 7, out_qsize 0\n",
      "2017-05-02 10:54:57,330 : INFO : PROGRESS: at 41.29% examples, 547359 words/s, in_qsize 7, out_qsize 0\n",
      "2017-05-02 10:54:58,332 : INFO : PROGRESS: at 41.85% examples, 543523 words/s, in_qsize 8, out_qsize 0\n",
      "2017-05-02 10:54:59,332 : INFO : PROGRESS: at 42.51% examples, 541135 words/s, in_qsize 7, out_qsize 0\n",
      "2017-05-02 10:55:00,339 : INFO : PROGRESS: at 43.25% examples, 539762 words/s, in_qsize 5, out_qsize 2\n",
      "2017-05-02 10:55:01,381 : INFO : PROGRESS: at 44.03% examples, 538467 words/s, in_qsize 7, out_qsize 0\n",
      "2017-05-02 10:55:02,401 : INFO : PROGRESS: at 44.79% examples, 537338 words/s, in_qsize 8, out_qsize 1\n",
      "2017-05-02 10:55:03,404 : INFO : PROGRESS: at 45.70% examples, 538088 words/s, in_qsize 6, out_qsize 1\n",
      "2017-05-02 10:55:04,405 : INFO : PROGRESS: at 46.60% examples, 538710 words/s, in_qsize 7, out_qsize 0\n",
      "2017-05-02 10:55:05,410 : INFO : PROGRESS: at 47.49% examples, 539273 words/s, in_qsize 8, out_qsize 0\n",
      "2017-05-02 10:55:06,419 : INFO : PROGRESS: at 48.42% examples, 540166 words/s, in_qsize 7, out_qsize 0\n",
      "2017-05-02 10:55:07,424 : INFO : PROGRESS: at 49.35% examples, 541175 words/s, in_qsize 7, out_qsize 0\n",
      "2017-05-02 10:55:08,431 : INFO : PROGRESS: at 50.25% examples, 541787 words/s, in_qsize 7, out_qsize 0\n",
      "2017-05-02 10:55:09,434 : INFO : PROGRESS: at 51.14% examples, 542295 words/s, in_qsize 7, out_qsize 0\n",
      "2017-05-02 10:55:10,441 : INFO : PROGRESS: at 52.04% examples, 542963 words/s, in_qsize 6, out_qsize 1\n",
      "2017-05-02 10:55:11,464 : INFO : PROGRESS: at 52.95% examples, 543482 words/s, in_qsize 7, out_qsize 0\n",
      "2017-05-02 10:55:12,471 : INFO : PROGRESS: at 53.80% examples, 543443 words/s, in_qsize 6, out_qsize 1\n",
      "2017-05-02 10:55:13,500 : INFO : PROGRESS: at 54.54% examples, 542231 words/s, in_qsize 7, out_qsize 0\n",
      "2017-05-02 10:55:14,508 : INFO : PROGRESS: at 55.37% examples, 541998 words/s, in_qsize 7, out_qsize 0\n",
      "2017-05-02 10:55:15,512 : INFO : PROGRESS: at 56.27% examples, 542545 words/s, in_qsize 7, out_qsize 0\n",
      "2017-05-02 10:55:16,516 : INFO : PROGRESS: at 57.15% examples, 542871 words/s, in_qsize 7, out_qsize 0\n",
      "2017-05-02 10:55:17,532 : INFO : PROGRESS: at 58.06% examples, 543403 words/s, in_qsize 7, out_qsize 0\n",
      "2017-05-02 10:55:18,545 : INFO : PROGRESS: at 58.98% examples, 543942 words/s, in_qsize 8, out_qsize 1\n",
      "2017-05-02 10:55:19,560 : INFO : PROGRESS: at 59.78% examples, 543443 words/s, in_qsize 7, out_qsize 0\n",
      "2017-05-02 10:55:20,565 : INFO : PROGRESS: at 60.59% examples, 543127 words/s, in_qsize 8, out_qsize 0\n",
      "2017-05-02 10:55:21,587 : INFO : PROGRESS: at 61.31% examples, 541798 words/s, in_qsize 6, out_qsize 1\n",
      "2017-05-02 10:55:22,589 : INFO : PROGRESS: at 62.14% examples, 541633 words/s, in_qsize 7, out_qsize 0\n",
      "2017-05-02 10:55:23,599 : INFO : PROGRESS: at 63.03% examples, 541906 words/s, in_qsize 7, out_qsize 0\n",
      "2017-05-02 10:55:24,626 : INFO : PROGRESS: at 63.97% examples, 542497 words/s, in_qsize 7, out_qsize 0\n",
      "2017-05-02 10:55:25,629 : INFO : PROGRESS: at 64.68% examples, 541296 words/s, in_qsize 7, out_qsize 0\n",
      "2017-05-02 10:55:26,629 : INFO : PROGRESS: at 65.48% examples, 540973 words/s, in_qsize 7, out_qsize 0\n",
      "2017-05-02 10:55:27,643 : INFO : PROGRESS: at 66.30% examples, 540559 words/s, in_qsize 8, out_qsize 0\n",
      "2017-05-02 10:55:28,651 : INFO : PROGRESS: at 67.20% examples, 541008 words/s, in_qsize 7, out_qsize 0\n",
      "2017-05-02 10:55:29,661 : INFO : PROGRESS: at 68.10% examples, 541440 words/s, in_qsize 7, out_qsize 0\n",
      "2017-05-02 10:55:30,671 : INFO : PROGRESS: at 69.00% examples, 541856 words/s, in_qsize 7, out_qsize 0\n",
      "2017-05-02 10:55:31,673 : INFO : PROGRESS: at 69.87% examples, 542142 words/s, in_qsize 7, out_qsize 0\n",
      "2017-05-02 10:55:32,694 : INFO : PROGRESS: at 70.75% examples, 542210 words/s, in_qsize 6, out_qsize 1\n",
      "2017-05-02 10:55:33,715 : INFO : PROGRESS: at 71.66% examples, 542702 words/s, in_qsize 6, out_qsize 1\n",
      "2017-05-02 10:55:34,723 : INFO : PROGRESS: at 72.58% examples, 543263 words/s, in_qsize 8, out_qsize 1\n",
      "2017-05-02 10:55:35,725 : INFO : PROGRESS: at 73.47% examples, 543598 words/s, in_qsize 8, out_qsize 0\n",
      "2017-05-02 10:55:36,734 : INFO : PROGRESS: at 74.39% examples, 544139 words/s, in_qsize 7, out_qsize 0\n",
      "2017-05-02 10:55:37,745 : INFO : PROGRESS: at 75.18% examples, 543601 words/s, in_qsize 7, out_qsize 0\n",
      "2017-05-02 10:55:38,750 : INFO : PROGRESS: at 75.97% examples, 543186 words/s, in_qsize 8, out_qsize 0\n",
      "2017-05-02 10:55:39,759 : INFO : PROGRESS: at 76.79% examples, 542999 words/s, in_qsize 7, out_qsize 0\n",
      "2017-05-02 10:55:40,770 : INFO : PROGRESS: at 77.59% examples, 542647 words/s, in_qsize 7, out_qsize 0\n",
      "2017-05-02 10:55:41,807 : INFO : PROGRESS: at 78.35% examples, 541836 words/s, in_qsize 8, out_qsize 1\n",
      "2017-05-02 10:55:42,812 : INFO : PROGRESS: at 79.17% examples, 541610 words/s, in_qsize 7, out_qsize 0\n",
      "2017-05-02 10:55:43,814 : INFO : PROGRESS: at 79.96% examples, 541333 words/s, in_qsize 7, out_qsize 0\n",
      "2017-05-02 10:55:44,829 : INFO : PROGRESS: at 80.84% examples, 541514 words/s, in_qsize 8, out_qsize 2\n",
      "2017-05-02 10:55:45,835 : INFO : PROGRESS: at 81.74% examples, 541810 words/s, in_qsize 7, out_qsize 0\n",
      "2017-05-02 10:55:46,839 : INFO : PROGRESS: at 82.64% examples, 542124 words/s, in_qsize 6, out_qsize 1\n",
      "2017-05-02 10:55:47,862 : INFO : PROGRESS: at 83.56% examples, 542394 words/s, in_qsize 8, out_qsize 0\n",
      "2017-05-02 10:55:48,866 : INFO : PROGRESS: at 84.44% examples, 542618 words/s, in_qsize 8, out_qsize 0\n",
      "2017-05-02 10:55:49,878 : INFO : PROGRESS: at 85.35% examples, 542927 words/s, in_qsize 7, out_qsize 0\n",
      "2017-05-02 10:55:50,894 : INFO : PROGRESS: at 86.31% examples, 543491 words/s, in_qsize 7, out_qsize 0\n",
      "2017-05-02 10:55:51,897 : INFO : PROGRESS: at 87.20% examples, 543760 words/s, in_qsize 7, out_qsize 0\n",
      "2017-05-02 10:55:52,904 : INFO : PROGRESS: at 88.10% examples, 544088 words/s, in_qsize 6, out_qsize 1\n",
      "2017-05-02 10:55:53,908 : INFO : PROGRESS: at 88.92% examples, 543938 words/s, in_qsize 6, out_qsize 1\n",
      "2017-05-02 10:55:54,915 : INFO : PROGRESS: at 89.79% examples, 544118 words/s, in_qsize 8, out_qsize 0\n",
      "2017-05-02 10:55:55,929 : INFO : PROGRESS: at 90.28% examples, 541846 words/s, in_qsize 7, out_qsize 0\n",
      "2017-05-02 10:55:56,940 : INFO : PROGRESS: at 90.81% examples, 539961 words/s, in_qsize 6, out_qsize 1\n",
      "2017-05-02 10:55:57,951 : INFO : PROGRESS: at 91.50% examples, 539095 words/s, in_qsize 8, out_qsize 0\n",
      "2017-05-02 10:55:58,952 : INFO : PROGRESS: at 92.39% examples, 539402 words/s, in_qsize 7, out_qsize 0\n",
      "2017-05-02 10:55:59,973 : INFO : PROGRESS: at 93.28% examples, 539611 words/s, in_qsize 7, out_qsize 0\n",
      "2017-05-02 10:56:00,978 : INFO : PROGRESS: at 94.13% examples, 539698 words/s, in_qsize 6, out_qsize 1\n",
      "2017-05-02 10:56:01,980 : INFO : PROGRESS: at 94.95% examples, 539547 words/s, in_qsize 8, out_qsize 0\n",
      "2017-05-02 10:56:02,989 : INFO : PROGRESS: at 95.81% examples, 539619 words/s, in_qsize 7, out_qsize 0\n",
      "2017-05-02 10:56:03,993 : INFO : PROGRESS: at 96.68% examples, 539765 words/s, in_qsize 7, out_qsize 0\n",
      "2017-05-02 10:56:04,995 : INFO : PROGRESS: at 97.51% examples, 539744 words/s, in_qsize 7, out_qsize 0\n",
      "2017-05-02 10:56:06,006 : INFO : PROGRESS: at 98.40% examples, 539988 words/s, in_qsize 7, out_qsize 0\n",
      "2017-05-02 10:56:07,014 : INFO : PROGRESS: at 99.28% examples, 540115 words/s, in_qsize 8, out_qsize 0\n",
      "2017-05-02 10:56:07,800 : INFO : worker thread finished; awaiting finish of 3 more threads\n",
      "2017-05-02 10:56:07,812 : INFO : worker thread finished; awaiting finish of 2 more threads\n",
      "2017-05-02 10:56:07,818 : INFO : worker thread finished; awaiting finish of 1 more threads\n",
      "2017-05-02 10:56:07,822 : INFO : worker thread finished; awaiting finish of 0 more threads\n",
      "2017-05-02 10:56:07,823 : INFO : training on 89497450 raw words (64305942 effective words) took 119.0s, 540401 effective words/s\n"
     ]
    }
   ],
   "source": [
    "# Initialize and train the model (this will take some time)\n",
    "from gensim.models import word2vec\n",
    "print(\"Training model...\")\n",
    "model = word2vec.Word2Vec(sentences, workers=num_workers, \n",
    "            size=num_features, min_count = min_word_count,\n",
    "            window = context, sample = downsampling)"
   ]
  },
  {
   "cell_type": "code",
   "execution_count": 18,
   "metadata": {
    "collapsed": false
   },
   "outputs": [
    {
     "name": "stderr",
     "output_type": "stream",
     "text": [
      "2017-05-02 10:56:07,833 : INFO : precomputing L2-norms of word weight vectors\n",
      "2017-05-02 10:56:07,979 : INFO : saving Word2Vec object under 300features_40minwords_10context, separately None\n",
      "2017-05-02 10:56:07,980 : INFO : not storing attribute syn0norm\n",
      "2017-05-02 10:56:07,981 : INFO : not storing attribute cum_table\n",
      "2017-05-02 10:56:08,782 : INFO : saved 300features_40minwords_10context\n"
     ]
    }
   ],
   "source": [
    "# If you don't plan to train the model any further, calling \n",
    "# init_sims will make the model much more memory-efficient.\n",
    "model.init_sims(replace=True)\n",
    "\n",
    "# It can be helpful to create a meaningful model name and \n",
    "# save the model for later use. You can load it later using Word2Vec.load()\n",
    "model_name = \"300features_40minwords_10context\"\n",
    "model.save(model_name)"
   ]
  },
  {
   "cell_type": "code",
   "execution_count": 23,
   "metadata": {
    "collapsed": false
   },
   "outputs": [
    {
     "data": {
      "text/plain": [
       "'kitchen'"
      ]
     },
     "execution_count": 23,
     "metadata": {},
     "output_type": "execute_result"
    }
   ],
   "source": [
    "model.doesnt_match(\"man woman child kitchen\".split())"
   ]
  },
  {
   "cell_type": "code",
   "execution_count": 24,
   "metadata": {
    "collapsed": false
   },
   "outputs": [
    {
     "name": "stderr",
     "output_type": "stream",
     "text": [
      "2017-05-02 11:01:19,921 : WARNING : vectors for words {'I'} are not present in the model, ignoring these words\n"
     ]
    },
    {
     "data": {
      "text/plain": [
       "'am'"
      ]
     },
     "execution_count": 24,
     "metadata": {},
     "output_type": "execute_result"
    }
   ],
   "source": [
    "model.doesnt_match(\"I am hungry\".split())"
   ]
  },
  {
   "cell_type": "code",
   "execution_count": 25,
   "metadata": {
    "collapsed": false
   },
   "outputs": [
    {
     "data": {
      "text/plain": [
       "[('woman', 0.6317477226257324),\n",
       " ('lady', 0.6066347360610962),\n",
       " ('lad', 0.5479551553726196),\n",
       " ('farmer', 0.540192723274231),\n",
       " ('millionaire', 0.5335596203804016),\n",
       " ('guy', 0.5265986919403076),\n",
       " ('monk', 0.5264548659324646),\n",
       " ('person', 0.5196757316589355),\n",
       " ('chap', 0.512682318687439),\n",
       " ('soldier', 0.5124808549880981)]"
      ]
     },
     "execution_count": 25,
     "metadata": {},
     "output_type": "execute_result"
    }
   ],
   "source": [
    "model.most_similar(\"man\")"
   ]
  },
  {
   "cell_type": "code",
   "execution_count": 26,
   "metadata": {
    "collapsed": false
   },
   "outputs": [
    {
     "data": {
      "text/plain": [
       "[('princess', 0.6397346258163452),\n",
       " ('bride', 0.6060532331466675),\n",
       " ('stepmother', 0.5990087389945984),\n",
       " ('maid', 0.5953603982925415),\n",
       " ('prince', 0.5906099081039429),\n",
       " ('angela', 0.5871610641479492),\n",
       " ('maria', 0.5840234756469727),\n",
       " ('mistress', 0.581631600856781),\n",
       " ('goddess', 0.5792825222015381),\n",
       " ('belle', 0.5730113387107849)]"
      ]
     },
     "execution_count": 26,
     "metadata": {},
     "output_type": "execute_result"
    }
   ],
   "source": [
    "model.most_similar(\"queen\")"
   ]
  },
  {
   "cell_type": "code",
   "execution_count": 27,
   "metadata": {
    "collapsed": false
   },
   "outputs": [
    {
     "data": {
      "text/plain": [
       "[('terrible', 0.781831681728363),\n",
       " ('horrible', 0.7378334999084473),\n",
       " ('atrocious', 0.7155860662460327),\n",
       " ('dreadful', 0.6856135129928589),\n",
       " ('horrendous', 0.6822841167449951),\n",
       " ('abysmal', 0.6791336536407471),\n",
       " ('appalling', 0.6649953126907349),\n",
       " ('horrid', 0.6306585073471069),\n",
       " ('lousy', 0.6210367679595947),\n",
       " ('amateurish', 0.6181128025054932)]"
      ]
     },
     "execution_count": 27,
     "metadata": {},
     "output_type": "execute_result"
    }
   ],
   "source": [
    "model.most_similar(\"awful\")"
   ]
  },
  {
   "cell_type": "code",
   "execution_count": 37,
   "metadata": {
    "collapsed": false
   },
   "outputs": [
    {
     "data": {
      "text/plain": [
       "[('0', 0.7278952598571777),\n",
       " ('4', 0.7199603915214539),\n",
       " ('3', 0.6588741540908813),\n",
       " ('ratio', 0.6184767484664917),\n",
       " ('2', 0.6152806282043457),\n",
       " ('7', 0.6093538403511047),\n",
       " ('zombi', 0.60548996925354),\n",
       " ('6', 0.6006932258605957),\n",
       " ('10', 0.5987155437469482),\n",
       " ('99', 0.5905357599258423)]"
      ]
     },
     "execution_count": 37,
     "metadata": {},
     "output_type": "execute_result"
    }
   ],
   "source": [
    "model.most_similar(\"1\")"
   ]
  },
  {
   "cell_type": "markdown",
   "metadata": {},
   "source": [
    "# Checking functions"
   ]
  },
  {
   "cell_type": "code",
   "execution_count": 28,
   "metadata": {
    "collapsed": true
   },
   "outputs": [],
   "source": [
    "r = 'Our model is capable of distinguishing differences in meaning! \\\n",
    "    It knows that men, women and children are more similar to each other than they are to kitchens.'"
   ]
  },
  {
   "cell_type": "code",
   "execution_count": 29,
   "metadata": {
    "collapsed": false
   },
   "outputs": [
    {
     "data": {
      "text/plain": [
       "'Our model is capable of distinguishing differences in meaning!     It knows that men, women and children are more similar to each other than they are to kitchens.'"
      ]
     },
     "execution_count": 29,
     "metadata": {},
     "output_type": "execute_result"
    }
   ],
   "source": [
    "r.strip()"
   ]
  },
  {
   "cell_type": "code",
   "execution_count": 30,
   "metadata": {
    "collapsed": true
   },
   "outputs": [],
   "source": [
    "raw_r = tokenizer.tokenize(r.strip())"
   ]
  },
  {
   "cell_type": "code",
   "execution_count": 31,
   "metadata": {
    "collapsed": false
   },
   "outputs": [
    {
     "data": {
      "text/plain": [
       "['Our model is capable of distinguishing differences in meaning!',\n",
       " 'It knows that men, women and children are more similar to each other than they are to kitchens.']"
      ]
     },
     "execution_count": 31,
     "metadata": {},
     "output_type": "execute_result"
    }
   ],
   "source": [
    "raw_r"
   ]
  },
  {
   "cell_type": "code",
   "execution_count": 35,
   "metadata": {
    "collapsed": false
   },
   "outputs": [],
   "source": [
    "word_list = review_to_wordlist(raw_r[0], remove_stopwords=True)"
   ]
  },
  {
   "cell_type": "code",
   "execution_count": 36,
   "metadata": {
    "collapsed": false
   },
   "outputs": [
    {
     "data": {
      "text/plain": [
       "['model', 'capable', 'distinguishing', 'differences', 'meaning']"
      ]
     },
     "execution_count": 36,
     "metadata": {},
     "output_type": "execute_result"
    }
   ],
   "source": [
    "word_list"
   ]
  },
  {
   "cell_type": "code",
   "execution_count": null,
   "metadata": {
    "collapsed": true
   },
   "outputs": [],
   "source": []
  }
 ],
 "metadata": {
  "kernelspec": {
   "display_name": "Python 3",
   "language": "python",
   "name": "python3"
  },
  "language_info": {
   "codemirror_mode": {
    "name": "ipython",
    "version": 3
   },
   "file_extension": ".py",
   "mimetype": "text/x-python",
   "name": "python",
   "nbconvert_exporter": "python",
   "pygments_lexer": "ipython3",
   "version": "3.5.2"
  },
  "toc": {
   "colors": {
    "hover_highlight": "#DAA520",
    "running_highlight": "#FF0000",
    "selected_highlight": "#FFD700"
   },
   "moveMenuLeft": true,
   "nav_menu": {
    "height": "12px",
    "width": "252px"
   },
   "navigate_menu": true,
   "number_sections": true,
   "sideBar": true,
   "threshold": 4,
   "toc_cell": false,
   "toc_section_display": "block",
   "toc_window_display": false
  }
 },
 "nbformat": 4,
 "nbformat_minor": 2
}
