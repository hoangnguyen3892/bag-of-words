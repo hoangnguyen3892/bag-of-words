{
 "cells": [
  {
   "cell_type": "markdown",
   "metadata": {
    "deletable": true,
    "editable": true
   },
   "source": [
    "[Tutorial](https://www.kaggle.com/c/word2vec-nlp-tutorial#part-2-word-vectors). This part of the tutorial will focus on using distributed word vectors created by the Word2Vec algorithm."
   ]
  },
  {
   "cell_type": "code",
   "execution_count": 1,
   "metadata": {
    "collapsed": true,
    "deletable": true,
    "editable": true
   },
   "outputs": [],
   "source": [
    "import pandas as pd"
   ]
  },
  {
   "cell_type": "code",
   "execution_count": 2,
   "metadata": {
    "collapsed": true,
    "deletable": true,
    "editable": true
   },
   "outputs": [],
   "source": [
    "# Import various modules for string cleaning\n",
    "from bs4 import BeautifulSoup\n",
    "import re\n",
    "from nltk.corpus import stopwords\n",
    "import nltk.data"
   ]
  },
  {
   "cell_type": "code",
   "execution_count": 3,
   "metadata": {
    "collapsed": true,
    "deletable": true,
    "editable": true
   },
   "outputs": [],
   "source": [
    "import warnings\n",
    "warnings.filterwarnings('ignore')"
   ]
  },
  {
   "cell_type": "code",
   "execution_count": 4,
   "metadata": {
    "collapsed": false,
    "deletable": true,
    "editable": true
   },
   "outputs": [],
   "source": [
    "# Read data from files \n",
    "train = pd.read_csv(\"../input/labeledTrainData.tsv\", header=0, delimiter=\"\\t\", quoting=3)\n",
    "\n",
    "test = pd.read_csv(\"../input/testData.tsv\", header=0, delimiter=\"\\t\", quoting=3)\n",
    "\n",
    "unlabeled_train = pd.read_csv(\"../input/unlabeledTrainData.tsv\", header=0, delimiter=\"\\t\", quoting=3)"
   ]
  },
  {
   "cell_type": "code",
   "execution_count": 5,
   "metadata": {
    "collapsed": false,
    "deletable": true,
    "editable": true
   },
   "outputs": [
    {
     "name": "stdout",
     "output_type": "stream",
     "text": [
      "Read 25000 labeled train reviews, 25000 labeled test reviews, and 50000 unlabeled reviews\n"
     ]
    }
   ],
   "source": [
    "# Verify the number of reviews that were read (100,000 in total)\n",
    "print(\"Read %d labeled train reviews, %d labeled test reviews, and %d unlabeled reviews\" % (train[\"review\"].size,  \n",
    "                                                                                            test[\"review\"].size, \n",
    "                                                                                            unlabeled_train[\"review\"].size))"
   ]
  },
  {
   "cell_type": "markdown",
   "metadata": {
    "deletable": true,
    "editable": true
   },
   "source": [
    "# Preparing to train model"
   ]
  },
  {
   "cell_type": "markdown",
   "metadata": {
    "deletable": true,
    "editable": true
   },
   "source": [
    "The functions we write to clean the data are also similar to Part 1, although now there are a couple of differences. \n",
    "\n",
    "- First, to train Word2Vec it is better not to remove stop words because the algorithm relies on the broader context of the sentence in order to produce high-quality word vectors. For this reason, we will make stop word removal optional in the functions below. \n",
    "\n",
    "- It also might be better not to remove numbers."
   ]
  },
  {
   "cell_type": "code",
   "execution_count": 6,
   "metadata": {
    "collapsed": true,
    "deletable": true,
    "editable": true
   },
   "outputs": [],
   "source": [
    "# Here it may be better if we remove number\n",
    "def review_to_wordlist(review, remove_stopwords=False):\n",
    "    # Function to convert a document to a sequence of words,\n",
    "    # optionally removing stop words.  Returns a list of words.\n",
    "    #\n",
    "    # 1. Remove HTML\n",
    "    review_text = BeautifulSoup(review, \"lxml\").get_text()\n",
    "    #  \n",
    "    # 2. Remove non-letters --> Remove non-letters/non-numbers\n",
    "    review_text = re.sub(\"[^a-zA-Z0-9]\",\" \", review_text)\n",
    "    #\n",
    "    # 3. Convert words to lower case and split them\n",
    "    words = review_text.lower().split()\n",
    "    #\n",
    "    # 4. Optionally remove stop words and numbers (false by default)\n",
    "    if remove_stopwords:\n",
    "        stops = set(stopwords.words(\"english\"))\n",
    "        words = [w for w in words if not w in stops]\n",
    "        \n",
    "    #\n",
    "    # 5. Return a list of words\n",
    "    return(words)"
   ]
  },
  {
   "cell_type": "code",
   "execution_count": 7,
   "metadata": {
    "collapsed": false,
    "deletable": true,
    "editable": true
   },
   "outputs": [],
   "source": [
    "# Load the punkt tokenizer\n",
    "tokenizer = nltk.data.load('tokenizers/punkt/english.pickle')"
   ]
  },
  {
   "cell_type": "code",
   "execution_count": 8,
   "metadata": {
    "collapsed": true,
    "deletable": true,
    "editable": true
   },
   "outputs": [],
   "source": [
    "# Define a function to split a review into parsed sentences\n",
    "def review_to_sentences(review, tokenizer, remove_stopwords=False):\n",
    "    # Function to split a review into parsed sentences. Returns a \n",
    "    # list of sentences, where each sentence is a list of words\n",
    "    #\n",
    "    # 1. Use the NLTK tokenizer to split the paragraph into sentences\n",
    "    raw_sentences = tokenizer.tokenize(review.strip())\n",
    "    #\n",
    "    # 2. Loop over each sentence\n",
    "    sentences = []\n",
    "    for raw_sentence in raw_sentences:\n",
    "        # If a sentence is empty, skip it\n",
    "        if len(raw_sentence) > 0:\n",
    "            # Otherwise, call review_to_wordlist to get a list of words\n",
    "            sentences.append(review_to_wordlist(raw_sentence, remove_stopwords))\n",
    "    #\n",
    "    # Return the list of sentences (each sentence is a list of words,\n",
    "    # so this returns a list of lists\n",
    "    return sentences"
   ]
  },
  {
   "cell_type": "code",
   "execution_count": 9,
   "metadata": {
    "collapsed": false,
    "deletable": true,
    "editable": true
   },
   "outputs": [
    {
     "name": "stdout",
     "output_type": "stream",
     "text": [
      "Parsing sentences from training set\n",
      "Parsing sentences from unlabeled set\n"
     ]
    }
   ],
   "source": [
    "sentences = []  # Initialize an empty list of sentences\n",
    "\n",
    "print(\"Parsing sentences from training set\")\n",
    "for review in train[\"review\"]:\n",
    "    sentences += review_to_sentences(review, tokenizer)\n",
    "\n",
    "print(\"Parsing sentences from unlabeled set\")\n",
    "for review in unlabeled_train[\"review\"]:\n",
    "    sentences += review_to_sentences(review, tokenizer)"
   ]
  },
  {
   "cell_type": "code",
   "execution_count": 10,
   "metadata": {
    "collapsed": false,
    "deletable": true,
    "editable": true
   },
   "outputs": [
    {
     "data": {
      "text/plain": [
       "795538"
      ]
     },
     "execution_count": 10,
     "metadata": {},
     "output_type": "execute_result"
    }
   ],
   "source": [
    "len(sentences)"
   ]
  },
  {
   "cell_type": "code",
   "execution_count": 11,
   "metadata": {
    "collapsed": false,
    "deletable": true,
    "editable": true
   },
   "outputs": [
    {
     "data": {
      "text/plain": [
       "['with',\n",
       " 'all',\n",
       " 'this',\n",
       " 'stuff',\n",
       " 'going',\n",
       " 'down',\n",
       " 'at',\n",
       " 'the',\n",
       " 'moment',\n",
       " 'with',\n",
       " 'mj',\n",
       " 'i',\n",
       " 've',\n",
       " 'started',\n",
       " 'listening',\n",
       " 'to',\n",
       " 'his',\n",
       " 'music',\n",
       " 'watching',\n",
       " 'the',\n",
       " 'odd',\n",
       " 'documentary',\n",
       " 'here',\n",
       " 'and',\n",
       " 'there',\n",
       " 'watched',\n",
       " 'the',\n",
       " 'wiz',\n",
       " 'and',\n",
       " 'watched',\n",
       " 'moonwalker',\n",
       " 'again']"
      ]
     },
     "execution_count": 11,
     "metadata": {},
     "output_type": "execute_result"
    }
   ],
   "source": [
    "sentences[0]"
   ]
  },
  {
   "cell_type": "code",
   "execution_count": 12,
   "metadata": {
    "collapsed": false,
    "deletable": true,
    "editable": true
   },
   "outputs": [
    {
     "data": {
      "text/plain": [
       "['maybe',\n",
       " 'i',\n",
       " 'just',\n",
       " 'want',\n",
       " 'to',\n",
       " 'get',\n",
       " 'a',\n",
       " 'certain',\n",
       " 'insight',\n",
       " 'into',\n",
       " 'this',\n",
       " 'guy',\n",
       " 'who',\n",
       " 'i',\n",
       " 'thought',\n",
       " 'was',\n",
       " 'really',\n",
       " 'cool',\n",
       " 'in',\n",
       " 'the',\n",
       " 'eighties',\n",
       " 'just',\n",
       " 'to',\n",
       " 'maybe',\n",
       " 'make',\n",
       " 'up',\n",
       " 'my',\n",
       " 'mind',\n",
       " 'whether',\n",
       " 'he',\n",
       " 'is',\n",
       " 'guilty',\n",
       " 'or',\n",
       " 'innocent']"
      ]
     },
     "execution_count": 12,
     "metadata": {},
     "output_type": "execute_result"
    }
   ],
   "source": [
    "sentences[1]"
   ]
  },
  {
   "cell_type": "markdown",
   "metadata": {
    "collapsed": true,
    "deletable": true,
    "editable": true
   },
   "source": [
    "# Training and Saving model"
   ]
  },
  {
   "cell_type": "code",
   "execution_count": 13,
   "metadata": {
    "collapsed": true,
    "deletable": true,
    "editable": true
   },
   "outputs": [],
   "source": [
    "# Import the built-in logging module and configure it so that Word2Vec \n",
    "# creates nice output messages\n",
    "import logging\n",
    "logging.basicConfig(format='%(asctime)s : %(levelname)s : %(message)s', level=logging.INFO)"
   ]
  },
  {
   "cell_type": "code",
   "execution_count": 14,
   "metadata": {
    "collapsed": true,
    "deletable": true,
    "editable": true
   },
   "outputs": [],
   "source": [
    "# Set values for various parameters\n",
    "num_features = 300    # Word vector dimensionality                      \n",
    "min_word_count = 40   # Minimum word count                        \n",
    "num_workers = 4       # Number of threads to run in parallel\n",
    "context = 10          # Context window size                                                                                    \n",
    "downsampling = 1e-3   # Downsample setting for frequent words"
   ]
  },
  {
   "cell_type": "code",
   "execution_count": 15,
   "metadata": {
    "collapsed": false,
    "deletable": true,
    "editable": true
   },
   "outputs": [
    {
     "name": "stderr",
     "output_type": "stream",
     "text": [
      "2017-05-02 11:29:56,651 : INFO : 'pattern' package not found; tag filters are not available for English\n",
      "2017-05-02 11:29:56,660 : INFO : collecting all words and their counts\n",
      "2017-05-02 11:29:56,662 : INFO : PROGRESS: at sentence #0, processed 0 words, keeping 0 word types\n",
      "2017-05-02 11:29:56,720 : INFO : PROGRESS: at sentence #10000, processed 227240 words, keeping 18038 word types\n",
      "2017-05-02 11:29:56,774 : INFO : PROGRESS: at sentence #20000, processed 454552 words, keeping 25323 word types\n",
      "2017-05-02 11:29:56,828 : INFO : PROGRESS: at sentence #30000, processed 675250 words, keeping 30477 word types\n"
     ]
    },
    {
     "name": "stdout",
     "output_type": "stream",
     "text": [
      "Training model...\n"
     ]
    },
    {
     "name": "stderr",
     "output_type": "stream",
     "text": [
      "2017-05-02 11:29:56,894 : INFO : PROGRESS: at sentence #40000, processed 902990 words, keeping 34862 word types\n",
      "2017-05-02 11:29:56,951 : INFO : PROGRESS: at sentence #50000, processed 1123470 words, keeping 38328 word types\n",
      "2017-05-02 11:29:57,007 : INFO : PROGRESS: at sentence #60000, processed 1346231 words, keeping 41337 word types\n",
      "2017-05-02 11:29:57,065 : INFO : PROGRESS: at sentence #70000, processed 1570663 words, keeping 43985 word types\n",
      "2017-05-02 11:29:57,129 : INFO : PROGRESS: at sentence #80000, processed 1791173 words, keeping 46399 word types\n",
      "2017-05-02 11:29:57,189 : INFO : PROGRESS: at sentence #90000, processed 2016631 words, keeping 48868 word types\n",
      "2017-05-02 11:29:57,254 : INFO : PROGRESS: at sentence #100000, processed 2239792 words, keeping 50979 word types\n",
      "2017-05-02 11:29:57,315 : INFO : PROGRESS: at sentence #110000, processed 2460728 words, keeping 52886 word types\n",
      "2017-05-02 11:29:57,371 : INFO : PROGRESS: at sentence #120000, processed 2684073 words, keeping 54961 word types\n",
      "2017-05-02 11:29:57,430 : INFO : PROGRESS: at sentence #130000, processed 2911015 words, keeping 56735 word types\n",
      "2017-05-02 11:29:57,491 : INFO : PROGRESS: at sentence #140000, processed 3125026 words, keeping 58284 word types\n",
      "2017-05-02 11:29:57,550 : INFO : PROGRESS: at sentence #150000, processed 3351867 words, keeping 60032 word types\n",
      "2017-05-02 11:29:57,608 : INFO : PROGRESS: at sentence #160000, processed 3575757 words, keeping 61626 word types\n",
      "2017-05-02 11:29:57,662 : INFO : PROGRESS: at sentence #170000, processed 3800351 words, keeping 63122 word types\n",
      "2017-05-02 11:29:57,726 : INFO : PROGRESS: at sentence #180000, processed 4022238 words, keeping 64569 word types\n",
      "2017-05-02 11:29:57,785 : INFO : PROGRESS: at sentence #190000, processed 4248713 words, keeping 65894 word types\n",
      "2017-05-02 11:29:57,840 : INFO : PROGRESS: at sentence #200000, processed 4474080 words, keeping 67209 word types\n",
      "2017-05-02 11:29:57,901 : INFO : PROGRESS: at sentence #210000, processed 4696805 words, keeping 68539 word types\n",
      "2017-05-02 11:29:57,960 : INFO : PROGRESS: at sentence #220000, processed 4923149 words, keeping 69877 word types\n",
      "2017-05-02 11:29:58,027 : INFO : PROGRESS: at sentence #230000, processed 5146908 words, keeping 71156 word types\n",
      "2017-05-02 11:29:58,098 : INFO : PROGRESS: at sentence #240000, processed 5375741 words, keeping 72394 word types\n",
      "2017-05-02 11:29:58,153 : INFO : PROGRESS: at sentence #250000, processed 5591102 words, keeping 73612 word types\n",
      "2017-05-02 11:29:58,212 : INFO : PROGRESS: at sentence #260000, processed 5812365 words, keeping 74770 word types\n",
      "2017-05-02 11:29:58,273 : INFO : PROGRESS: at sentence #270000, processed 6035002 words, keeping 76103 word types\n",
      "2017-05-02 11:29:58,333 : INFO : PROGRESS: at sentence #280000, processed 6262136 words, keeping 77729 word types\n",
      "2017-05-02 11:29:58,398 : INFO : PROGRESS: at sentence #290000, processed 6486563 words, keeping 79221 word types\n",
      "2017-05-02 11:29:58,457 : INFO : PROGRESS: at sentence #300000, processed 6712513 words, keeping 80586 word types\n",
      "2017-05-02 11:29:58,515 : INFO : PROGRESS: at sentence #310000, processed 6939080 words, keeping 81939 word types\n",
      "2017-05-02 11:29:58,588 : INFO : PROGRESS: at sentence #320000, processed 7165244 words, keeping 83299 word types\n",
      "2017-05-02 11:29:58,644 : INFO : PROGRESS: at sentence #330000, processed 7388226 words, keeping 84560 word types\n",
      "2017-05-02 11:29:58,700 : INFO : PROGRESS: at sentence #340000, processed 7618938 words, keeping 85836 word types\n",
      "2017-05-02 11:29:58,764 : INFO : PROGRESS: at sentence #350000, processed 7843518 words, keeping 87016 word types\n",
      "2017-05-02 11:29:58,833 : INFO : PROGRESS: at sentence #360000, processed 8065281 words, keeping 88215 word types\n",
      "2017-05-02 11:29:58,896 : INFO : PROGRESS: at sentence #370000, processed 8293691 words, keeping 89349 word types\n",
      "2017-05-02 11:29:58,961 : INFO : PROGRESS: at sentence #380000, processed 8520134 words, keeping 90542 word types\n",
      "2017-05-02 11:29:59,032 : INFO : PROGRESS: at sentence #390000, processed 8751074 words, keeping 91595 word types\n",
      "2017-05-02 11:29:59,099 : INFO : PROGRESS: at sentence #400000, processed 8975290 words, keeping 92645 word types\n",
      "2017-05-02 11:29:59,164 : INFO : PROGRESS: at sentence #410000, processed 9197908 words, keeping 93632 word types\n",
      "2017-05-02 11:29:59,235 : INFO : PROGRESS: at sentence #420000, processed 9420250 words, keeping 94686 word types\n",
      "2017-05-02 11:29:59,321 : INFO : PROGRESS: at sentence #430000, processed 9649144 words, keeping 95727 word types\n",
      "2017-05-02 11:29:59,431 : INFO : PROGRESS: at sentence #440000, processed 9877201 words, keeping 96726 word types\n",
      "2017-05-02 11:29:59,541 : INFO : PROGRESS: at sentence #450000, processed 10102194 words, keeping 97881 word types\n",
      "2017-05-02 11:29:59,628 : INFO : PROGRESS: at sentence #460000, processed 10336324 words, keeping 98956 word types\n",
      "2017-05-02 11:29:59,717 : INFO : PROGRESS: at sentence #470000, processed 10565467 words, keeping 99833 word types\n",
      "2017-05-02 11:29:59,787 : INFO : PROGRESS: at sentence #480000, processed 10787113 words, keeping 100784 word types\n",
      "2017-05-02 11:29:59,850 : INFO : PROGRESS: at sentence #490000, processed 11015191 words, keeping 101865 word types\n",
      "2017-05-02 11:29:59,911 : INFO : PROGRESS: at sentence #500000, processed 11238167 words, keeping 102788 word types\n",
      "2017-05-02 11:29:59,970 : INFO : PROGRESS: at sentence #510000, processed 11464728 words, keeping 103736 word types\n",
      "2017-05-02 11:30:00,036 : INFO : PROGRESS: at sentence #520000, processed 11689439 words, keeping 104655 word types\n",
      "2017-05-02 11:30:00,100 : INFO : PROGRESS: at sentence #530000, processed 11915119 words, keeping 105488 word types\n",
      "2017-05-02 11:30:00,161 : INFO : PROGRESS: at sentence #540000, processed 12141102 words, keeping 106387 word types\n",
      "2017-05-02 11:30:00,229 : INFO : PROGRESS: at sentence #550000, processed 12367916 words, keeping 107274 word types\n",
      "2017-05-02 11:30:00,288 : INFO : PROGRESS: at sentence #560000, processed 12590478 words, keeping 108159 word types\n",
      "2017-05-02 11:30:00,350 : INFO : PROGRESS: at sentence #570000, processed 12820775 words, keeping 108966 word types\n",
      "2017-05-02 11:30:00,411 : INFO : PROGRESS: at sentence #580000, processed 13043532 words, keeping 109857 word types\n",
      "2017-05-02 11:30:00,471 : INFO : PROGRESS: at sentence #590000, processed 13270267 words, keeping 110728 word types\n",
      "2017-05-02 11:30:00,536 : INFO : PROGRESS: at sentence #600000, processed 13493776 words, keeping 111479 word types\n",
      "2017-05-02 11:30:00,594 : INFO : PROGRESS: at sentence #610000, processed 13716049 words, keeping 112381 word types\n",
      "2017-05-02 11:30:00,652 : INFO : PROGRESS: at sentence #620000, processed 13943768 words, keeping 113155 word types\n",
      "2017-05-02 11:30:00,715 : INFO : PROGRESS: at sentence #630000, processed 14169342 words, keeping 113955 word types\n",
      "2017-05-02 11:30:00,777 : INFO : PROGRESS: at sentence #640000, processed 14391303 words, keeping 114795 word types\n",
      "2017-05-02 11:30:00,837 : INFO : PROGRESS: at sentence #650000, processed 14618428 words, keeping 115604 word types\n",
      "2017-05-02 11:30:00,905 : INFO : PROGRESS: at sentence #660000, processed 14842390 words, keeping 116381 word types\n",
      "2017-05-02 11:30:00,968 : INFO : PROGRESS: at sentence #670000, processed 15067050 words, keeping 117102 word types\n",
      "2017-05-02 11:30:01,025 : INFO : PROGRESS: at sentence #680000, processed 15293188 words, keeping 117827 word types\n",
      "2017-05-02 11:30:01,095 : INFO : PROGRESS: at sentence #690000, processed 15516580 words, keeping 118624 word types\n",
      "2017-05-02 11:30:01,157 : INFO : PROGRESS: at sentence #700000, processed 15746437 words, keeping 119455 word types\n",
      "2017-05-02 11:30:01,225 : INFO : PROGRESS: at sentence #710000, processed 15970704 words, keeping 120117 word types\n",
      "2017-05-02 11:30:01,286 : INFO : PROGRESS: at sentence #720000, processed 16197245 words, keeping 120751 word types\n",
      "2017-05-02 11:30:01,356 : INFO : PROGRESS: at sentence #730000, processed 16424876 words, keeping 121499 word types\n",
      "2017-05-02 11:30:01,414 : INFO : PROGRESS: at sentence #740000, processed 16647235 words, keeping 122228 word types\n",
      "2017-05-02 11:30:01,473 : INFO : PROGRESS: at sentence #750000, processed 16866895 words, keeping 122879 word types\n",
      "2017-05-02 11:30:01,543 : INFO : PROGRESS: at sentence #760000, processed 17087572 words, keeping 123525 word types\n",
      "2017-05-02 11:30:01,608 : INFO : PROGRESS: at sentence #770000, processed 17316051 words, keeping 124312 word types\n",
      "2017-05-02 11:30:01,671 : INFO : PROGRESS: at sentence #780000, processed 17547549 words, keeping 125038 word types\n",
      "2017-05-02 11:30:01,729 : INFO : PROGRESS: at sentence #790000, processed 17775786 words, keeping 125728 word types\n",
      "2017-05-02 11:30:01,766 : INFO : collected 126175 word types from a corpus of 17899490 raw words and 795538 sentences\n",
      "2017-05-02 11:30:01,767 : INFO : Loading a fresh vocabulary\n",
      "2017-05-02 11:30:01,876 : INFO : min_count=40 retains 16731 unique words (13% of original 126175, drops 109444)\n",
      "2017-05-02 11:30:01,877 : INFO : min_count=40 leaves 17333435 word corpus (96% of original 17899490, drops 566055)\n",
      "2017-05-02 11:30:01,927 : INFO : deleting the raw counts dictionary of 126175 items\n",
      "2017-05-02 11:30:01,938 : INFO : sample=0.001 downsamples 48 most-common words\n",
      "2017-05-02 11:30:01,940 : INFO : downsampling leaves estimated 12861120 word corpus (74.2% of prior 17333435)\n",
      "2017-05-02 11:30:01,941 : INFO : estimated required memory for 16731 words and 300 dimensions: 48519900 bytes\n",
      "2017-05-02 11:30:02,010 : INFO : resetting layer weights\n",
      "2017-05-02 11:30:02,277 : INFO : training model with 4 workers on 16731 vocabulary and 300 features, using sg=0 hs=0 sample=0.001 negative=5 window=10\n",
      "2017-05-02 11:30:02,278 : INFO : expecting 795538 sentences, matching count from corpus used for vocabulary survey\n",
      "2017-05-02 11:30:03,292 : INFO : PROGRESS: at 0.92% examples, 590994 words/s, in_qsize 8, out_qsize 0\n",
      "2017-05-02 11:30:04,299 : INFO : PROGRESS: at 1.88% examples, 598152 words/s, in_qsize 7, out_qsize 0\n",
      "2017-05-02 11:30:05,311 : INFO : PROGRESS: at 2.79% examples, 590217 words/s, in_qsize 7, out_qsize 0\n",
      "2017-05-02 11:30:06,328 : INFO : PROGRESS: at 3.57% examples, 564245 words/s, in_qsize 8, out_qsize 0\n",
      "2017-05-02 11:30:07,335 : INFO : PROGRESS: at 4.36% examples, 551153 words/s, in_qsize 6, out_qsize 1\n",
      "2017-05-02 11:30:08,339 : INFO : PROGRESS: at 5.05% examples, 533197 words/s, in_qsize 7, out_qsize 0\n",
      "2017-05-02 11:30:09,340 : INFO : PROGRESS: at 5.74% examples, 520581 words/s, in_qsize 8, out_qsize 0\n",
      "2017-05-02 11:30:10,355 : INFO : PROGRESS: at 6.44% examples, 510171 words/s, in_qsize 6, out_qsize 1\n",
      "2017-05-02 11:30:11,373 : INFO : PROGRESS: at 7.07% examples, 497170 words/s, in_qsize 7, out_qsize 0\n",
      "2017-05-02 11:30:12,377 : INFO : PROGRESS: at 7.61% examples, 482612 words/s, in_qsize 7, out_qsize 0\n",
      "2017-05-02 11:30:13,380 : INFO : PROGRESS: at 8.16% examples, 470647 words/s, in_qsize 8, out_qsize 0\n",
      "2017-05-02 11:30:14,393 : INFO : PROGRESS: at 8.70% examples, 460298 words/s, in_qsize 7, out_qsize 0\n",
      "2017-05-02 11:30:15,427 : INFO : PROGRESS: at 9.24% examples, 450251 words/s, in_qsize 7, out_qsize 0\n",
      "2017-05-02 11:30:16,428 : INFO : PROGRESS: at 9.80% examples, 444267 words/s, in_qsize 7, out_qsize 0\n",
      "2017-05-02 11:30:17,439 : INFO : PROGRESS: at 10.34% examples, 437330 words/s, in_qsize 7, out_qsize 0\n",
      "2017-05-02 11:30:18,454 : INFO : PROGRESS: at 10.89% examples, 432027 words/s, in_qsize 7, out_qsize 0\n",
      "2017-05-02 11:30:19,459 : INFO : PROGRESS: at 11.39% examples, 425537 words/s, in_qsize 8, out_qsize 0\n",
      "2017-05-02 11:30:20,461 : INFO : PROGRESS: at 11.94% examples, 422193 words/s, in_qsize 8, out_qsize 0\n",
      "2017-05-02 11:30:21,477 : INFO : PROGRESS: at 12.56% examples, 420366 words/s, in_qsize 6, out_qsize 1\n",
      "2017-05-02 11:30:22,478 : INFO : PROGRESS: at 13.30% examples, 423309 words/s, in_qsize 7, out_qsize 0\n",
      "2017-05-02 11:30:23,498 : INFO : PROGRESS: at 13.90% examples, 421239 words/s, in_qsize 6, out_qsize 1\n",
      "2017-05-02 11:30:24,507 : INFO : PROGRESS: at 14.54% examples, 420521 words/s, in_qsize 8, out_qsize 1\n",
      "2017-05-02 11:30:25,517 : INFO : PROGRESS: at 15.12% examples, 418293 words/s, in_qsize 6, out_qsize 1\n",
      "2017-05-02 11:30:26,525 : INFO : PROGRESS: at 15.64% examples, 414823 words/s, in_qsize 7, out_qsize 0\n",
      "2017-05-02 11:30:27,574 : INFO : PROGRESS: at 16.29% examples, 414054 words/s, in_qsize 7, out_qsize 0\n",
      "2017-05-02 11:30:28,605 : INFO : PROGRESS: at 16.89% examples, 412570 words/s, in_qsize 5, out_qsize 2\n",
      "2017-05-02 11:30:29,605 : INFO : PROGRESS: at 17.57% examples, 413494 words/s, in_qsize 8, out_qsize 1\n",
      "2017-05-02 11:30:30,607 : INFO : PROGRESS: at 18.20% examples, 413279 words/s, in_qsize 8, out_qsize 1\n",
      "2017-05-02 11:30:31,622 : INFO : PROGRESS: at 18.90% examples, 414112 words/s, in_qsize 7, out_qsize 0\n",
      "2017-05-02 11:30:32,636 : INFO : PROGRESS: at 19.75% examples, 418494 words/s, in_qsize 7, out_qsize 0\n",
      "2017-05-02 11:30:33,661 : INFO : PROGRESS: at 20.63% examples, 422868 words/s, in_qsize 8, out_qsize 1\n",
      "2017-05-02 11:30:34,674 : INFO : PROGRESS: at 21.52% examples, 427109 words/s, in_qsize 7, out_qsize 0\n",
      "2017-05-02 11:30:35,681 : INFO : PROGRESS: at 22.33% examples, 429706 words/s, in_qsize 8, out_qsize 0\n",
      "2017-05-02 11:30:36,690 : INFO : PROGRESS: at 22.96% examples, 428788 words/s, in_qsize 7, out_qsize 0\n",
      "2017-05-02 11:30:37,705 : INFO : PROGRESS: at 23.79% examples, 431493 words/s, in_qsize 8, out_qsize 0\n",
      "2017-05-02 11:30:38,711 : INFO : PROGRESS: at 24.70% examples, 435522 words/s, in_qsize 7, out_qsize 0\n",
      "2017-05-02 11:30:39,721 : INFO : PROGRESS: at 25.60% examples, 439277 words/s, in_qsize 6, out_qsize 1\n",
      "2017-05-02 11:30:40,726 : INFO : PROGRESS: at 26.53% examples, 443064 words/s, in_qsize 6, out_qsize 1\n",
      "2017-05-02 11:30:41,730 : INFO : PROGRESS: at 27.43% examples, 446506 words/s, in_qsize 7, out_qsize 0\n",
      "2017-05-02 11:30:42,757 : INFO : PROGRESS: at 28.35% examples, 449894 words/s, in_qsize 7, out_qsize 0\n",
      "2017-05-02 11:30:43,778 : INFO : PROGRESS: at 29.12% examples, 450756 words/s, in_qsize 7, out_qsize 0\n",
      "2017-05-02 11:30:44,793 : INFO : PROGRESS: at 29.80% examples, 450472 words/s, in_qsize 8, out_qsize 0\n",
      "2017-05-02 11:30:45,798 : INFO : PROGRESS: at 30.48% examples, 449957 words/s, in_qsize 7, out_qsize 1\n",
      "2017-05-02 11:30:46,839 : INFO : PROGRESS: at 31.20% examples, 449897 words/s, in_qsize 8, out_qsize 1\n",
      "2017-05-02 11:30:47,851 : INFO : PROGRESS: at 31.90% examples, 449963 words/s, in_qsize 7, out_qsize 0\n",
      "2017-05-02 11:30:48,853 : INFO : PROGRESS: at 32.53% examples, 449067 words/s, in_qsize 7, out_qsize 0\n",
      "2017-05-02 11:30:49,855 : INFO : PROGRESS: at 33.28% examples, 449708 words/s, in_qsize 8, out_qsize 0\n",
      "2017-05-02 11:30:50,859 : INFO : PROGRESS: at 33.94% examples, 449281 words/s, in_qsize 7, out_qsize 0\n",
      "2017-05-02 11:30:51,861 : INFO : PROGRESS: at 34.61% examples, 448896 words/s, in_qsize 7, out_qsize 0\n",
      "2017-05-02 11:30:52,883 : INFO : PROGRESS: at 35.31% examples, 448616 words/s, in_qsize 7, out_qsize 0\n",
      "2017-05-02 11:30:53,896 : INFO : PROGRESS: at 36.09% examples, 449533 words/s, in_qsize 7, out_qsize 0\n",
      "2017-05-02 11:30:54,905 : INFO : PROGRESS: at 36.81% examples, 449784 words/s, in_qsize 7, out_qsize 0\n",
      "2017-05-02 11:30:55,945 : INFO : PROGRESS: at 37.42% examples, 448416 words/s, in_qsize 7, out_qsize 0\n",
      "2017-05-02 11:30:56,950 : INFO : PROGRESS: at 37.88% examples, 445548 words/s, in_qsize 7, out_qsize 0\n",
      "2017-05-02 11:30:57,994 : INFO : PROGRESS: at 38.42% examples, 443521 words/s, in_qsize 8, out_qsize 0\n",
      "2017-05-02 11:30:59,009 : INFO : PROGRESS: at 39.11% examples, 443293 words/s, in_qsize 8, out_qsize 0\n",
      "2017-05-02 11:31:00,011 : INFO : PROGRESS: at 39.74% examples, 442685 words/s, in_qsize 6, out_qsize 1\n",
      "2017-05-02 11:31:01,019 : INFO : PROGRESS: at 40.39% examples, 442283 words/s, in_qsize 7, out_qsize 0\n",
      "2017-05-02 11:31:02,032 : INFO : PROGRESS: at 40.97% examples, 441027 words/s, in_qsize 7, out_qsize 0\n",
      "2017-05-02 11:31:03,032 : INFO : PROGRESS: at 41.48% examples, 439078 words/s, in_qsize 7, out_qsize 0\n",
      "2017-05-02 11:31:04,099 : INFO : PROGRESS: at 41.91% examples, 435915 words/s, in_qsize 7, out_qsize 0\n",
      "2017-05-02 11:31:05,111 : INFO : PROGRESS: at 42.48% examples, 434717 words/s, in_qsize 6, out_qsize 1\n",
      "2017-05-02 11:31:06,129 : INFO : PROGRESS: at 43.24% examples, 435433 words/s, in_qsize 7, out_qsize 0\n",
      "2017-05-02 11:31:07,130 : INFO : PROGRESS: at 43.98% examples, 435891 words/s, in_qsize 6, out_qsize 1\n",
      "2017-05-02 11:31:08,133 : INFO : PROGRESS: at 44.73% examples, 436559 words/s, in_qsize 8, out_qsize 0\n",
      "2017-05-02 11:31:09,138 : INFO : PROGRESS: at 45.59% examples, 438246 words/s, in_qsize 8, out_qsize 1\n",
      "2017-05-02 11:31:10,143 : INFO : PROGRESS: at 46.47% examples, 439991 words/s, in_qsize 7, out_qsize 0\n",
      "2017-05-02 11:31:11,156 : INFO : PROGRESS: at 47.33% examples, 441528 words/s, in_qsize 7, out_qsize 0\n",
      "2017-05-02 11:31:12,159 : INFO : PROGRESS: at 48.09% examples, 442273 words/s, in_qsize 6, out_qsize 1\n",
      "2017-05-02 11:31:13,171 : INFO : PROGRESS: at 48.75% examples, 441933 words/s, in_qsize 7, out_qsize 0\n",
      "2017-05-02 11:31:14,183 : INFO : PROGRESS: at 49.56% examples, 442979 words/s, in_qsize 7, out_qsize 0\n",
      "2017-05-02 11:31:15,184 : INFO : PROGRESS: at 50.36% examples, 443981 words/s, in_qsize 6, out_qsize 1\n",
      "2017-05-02 11:31:16,246 : INFO : PROGRESS: at 51.06% examples, 443716 words/s, in_qsize 8, out_qsize 0\n",
      "2017-05-02 11:31:17,251 : INFO : PROGRESS: at 51.69% examples, 443304 words/s, in_qsize 8, out_qsize 0\n",
      "2017-05-02 11:31:18,272 : INFO : PROGRESS: at 52.33% examples, 442721 words/s, in_qsize 7, out_qsize 0\n",
      "2017-05-02 11:31:19,272 : INFO : PROGRESS: at 52.94% examples, 442095 words/s, in_qsize 8, out_qsize 0\n",
      "2017-05-02 11:31:20,312 : INFO : PROGRESS: at 53.51% examples, 440887 words/s, in_qsize 6, out_qsize 1\n",
      "2017-05-02 11:31:21,329 : INFO : PROGRESS: at 54.14% examples, 440393 words/s, in_qsize 8, out_qsize 0\n",
      "2017-05-02 11:31:22,350 : INFO : PROGRESS: at 54.85% examples, 440515 words/s, in_qsize 7, out_qsize 0\n",
      "2017-05-02 11:31:23,378 : INFO : PROGRESS: at 55.51% examples, 440157 words/s, in_qsize 7, out_qsize 0\n",
      "2017-05-02 11:31:24,456 : INFO : PROGRESS: at 56.26% examples, 440230 words/s, in_qsize 8, out_qsize 0\n",
      "2017-05-02 11:31:25,460 : INFO : PROGRESS: at 56.80% examples, 439057 words/s, in_qsize 7, out_qsize 0\n",
      "2017-05-02 11:31:26,483 : INFO : PROGRESS: at 57.34% examples, 437893 words/s, in_qsize 7, out_qsize 2\n",
      "2017-05-02 11:31:27,554 : INFO : PROGRESS: at 57.84% examples, 436181 words/s, in_qsize 8, out_qsize 1\n",
      "2017-05-02 11:31:28,613 : INFO : PROGRESS: at 58.38% examples, 434904 words/s, in_qsize 8, out_qsize 1\n",
      "2017-05-02 11:31:29,622 : INFO : PROGRESS: at 58.96% examples, 434072 words/s, in_qsize 7, out_qsize 0\n",
      "2017-05-02 11:31:30,626 : INFO : PROGRESS: at 59.63% examples, 434010 words/s, in_qsize 7, out_qsize 0\n",
      "2017-05-02 11:31:31,643 : INFO : PROGRESS: at 60.40% examples, 434688 words/s, in_qsize 7, out_qsize 0\n",
      "2017-05-02 11:31:32,655 : INFO : PROGRESS: at 61.19% examples, 435457 words/s, in_qsize 8, out_qsize 1\n",
      "2017-05-02 11:31:33,657 : INFO : PROGRESS: at 61.89% examples, 435542 words/s, in_qsize 8, out_qsize 0\n",
      "2017-05-02 11:31:34,721 : INFO : PROGRESS: at 62.65% examples, 435732 words/s, in_qsize 8, out_qsize 0\n",
      "2017-05-02 11:31:35,722 : INFO : PROGRESS: at 63.46% examples, 436587 words/s, in_qsize 7, out_qsize 0\n",
      "2017-05-02 11:31:36,727 : INFO : PROGRESS: at 64.28% examples, 437493 words/s, in_qsize 7, out_qsize 0\n",
      "2017-05-02 11:31:37,741 : INFO : PROGRESS: at 65.10% examples, 438406 words/s, in_qsize 7, out_qsize 0\n",
      "2017-05-02 11:31:38,742 : INFO : PROGRESS: at 65.91% examples, 439213 words/s, in_qsize 7, out_qsize 0\n",
      "2017-05-02 11:31:39,744 : INFO : PROGRESS: at 66.52% examples, 438663 words/s, in_qsize 7, out_qsize 0\n",
      "2017-05-02 11:31:40,748 : INFO : PROGRESS: at 67.34% examples, 439506 words/s, in_qsize 8, out_qsize 0\n",
      "2017-05-02 11:31:41,749 : INFO : PROGRESS: at 68.17% examples, 440497 words/s, in_qsize 7, out_qsize 0\n",
      "2017-05-02 11:31:42,750 : INFO : PROGRESS: at 68.97% examples, 441252 words/s, in_qsize 7, out_qsize 0\n",
      "2017-05-02 11:31:43,756 : INFO : PROGRESS: at 69.77% examples, 442037 words/s, in_qsize 6, out_qsize 1\n",
      "2017-05-02 11:31:44,772 : INFO : PROGRESS: at 70.53% examples, 442339 words/s, in_qsize 7, out_qsize 0\n",
      "2017-05-02 11:31:45,785 : INFO : PROGRESS: at 71.37% examples, 443273 words/s, in_qsize 7, out_qsize 0\n",
      "2017-05-02 11:31:46,790 : INFO : PROGRESS: at 72.17% examples, 444017 words/s, in_qsize 7, out_qsize 0\n",
      "2017-05-02 11:31:47,796 : INFO : PROGRESS: at 72.98% examples, 444745 words/s, in_qsize 7, out_qsize 0\n",
      "2017-05-02 11:31:48,820 : INFO : PROGRESS: at 73.79% examples, 445390 words/s, in_qsize 7, out_qsize 0\n",
      "2017-05-02 11:31:49,839 : INFO : PROGRESS: at 74.50% examples, 445440 words/s, in_qsize 7, out_qsize 0\n",
      "2017-05-02 11:31:50,858 : INFO : PROGRESS: at 75.33% examples, 446144 words/s, in_qsize 8, out_qsize 0\n",
      "2017-05-02 11:31:51,859 : INFO : PROGRESS: at 76.16% examples, 446910 words/s, in_qsize 7, out_qsize 0\n",
      "2017-05-02 11:31:52,872 : INFO : PROGRESS: at 76.95% examples, 447426 words/s, in_qsize 7, out_qsize 0\n",
      "2017-05-02 11:31:53,890 : INFO : PROGRESS: at 77.74% examples, 447909 words/s, in_qsize 7, out_qsize 0\n",
      "2017-05-02 11:31:54,895 : INFO : PROGRESS: at 78.50% examples, 448307 words/s, in_qsize 7, out_qsize 0\n",
      "2017-05-02 11:31:55,916 : INFO : PROGRESS: at 79.33% examples, 448886 words/s, in_qsize 7, out_qsize 0\n",
      "2017-05-02 11:31:56,919 : INFO : PROGRESS: at 80.13% examples, 449528 words/s, in_qsize 8, out_qsize 0\n",
      "2017-05-02 11:31:57,940 : INFO : PROGRESS: at 80.95% examples, 450145 words/s, in_qsize 7, out_qsize 0\n",
      "2017-05-02 11:31:58,956 : INFO : PROGRESS: at 81.75% examples, 450589 words/s, in_qsize 6, out_qsize 1\n",
      "2017-05-02 11:31:59,999 : INFO : PROGRESS: at 82.60% examples, 451172 words/s, in_qsize 7, out_qsize 0\n",
      "2017-05-02 11:32:01,000 : INFO : PROGRESS: at 83.37% examples, 451474 words/s, in_qsize 7, out_qsize 0\n",
      "2017-05-02 11:32:02,009 : INFO : PROGRESS: at 84.19% examples, 452036 words/s, in_qsize 8, out_qsize 0\n",
      "2017-05-02 11:32:03,021 : INFO : PROGRESS: at 85.00% examples, 452586 words/s, in_qsize 7, out_qsize 0\n",
      "2017-05-02 11:32:04,038 : INFO : PROGRESS: at 85.79% examples, 452984 words/s, in_qsize 7, out_qsize 0\n",
      "2017-05-02 11:32:05,049 : INFO : PROGRESS: at 86.55% examples, 453160 words/s, in_qsize 8, out_qsize 0\n",
      "2017-05-02 11:32:06,053 : INFO : PROGRESS: at 87.27% examples, 453191 words/s, in_qsize 7, out_qsize 0\n",
      "2017-05-02 11:32:07,053 : INFO : PROGRESS: at 88.05% examples, 453646 words/s, in_qsize 8, out_qsize 0\n",
      "2017-05-02 11:32:08,059 : INFO : PROGRESS: at 88.85% examples, 454121 words/s, in_qsize 6, out_qsize 1\n",
      "2017-05-02 11:32:09,087 : INFO : PROGRESS: at 89.65% examples, 454508 words/s, in_qsize 6, out_qsize 1\n",
      "2017-05-02 11:32:10,093 : INFO : PROGRESS: at 90.38% examples, 454580 words/s, in_qsize 8, out_qsize 0\n",
      "2017-05-02 11:32:11,093 : INFO : PROGRESS: at 91.19% examples, 455109 words/s, in_qsize 7, out_qsize 0\n",
      "2017-05-02 11:32:12,108 : INFO : PROGRESS: at 91.98% examples, 455580 words/s, in_qsize 7, out_qsize 0\n",
      "2017-05-02 11:32:13,149 : INFO : PROGRESS: at 92.75% examples, 455681 words/s, in_qsize 8, out_qsize 0\n",
      "2017-05-02 11:32:14,157 : INFO : PROGRESS: at 93.56% examples, 456166 words/s, in_qsize 7, out_qsize 0\n",
      "2017-05-02 11:32:15,172 : INFO : PROGRESS: at 94.38% examples, 456682 words/s, in_qsize 7, out_qsize 0\n",
      "2017-05-02 11:32:16,191 : INFO : PROGRESS: at 95.18% examples, 457060 words/s, in_qsize 7, out_qsize 0\n",
      "2017-05-02 11:32:17,204 : INFO : PROGRESS: at 96.00% examples, 457507 words/s, in_qsize 7, out_qsize 0\n",
      "2017-05-02 11:32:18,216 : INFO : PROGRESS: at 96.81% examples, 457951 words/s, in_qsize 6, out_qsize 1\n",
      "2017-05-02 11:32:19,222 : INFO : PROGRESS: at 97.52% examples, 457942 words/s, in_qsize 7, out_qsize 0\n",
      "2017-05-02 11:32:20,233 : INFO : PROGRESS: at 98.23% examples, 457914 words/s, in_qsize 7, out_qsize 0\n",
      "2017-05-02 11:32:21,238 : INFO : PROGRESS: at 99.07% examples, 458420 words/s, in_qsize 6, out_qsize 1\n",
      "2017-05-02 11:32:22,254 : INFO : PROGRESS: at 99.88% examples, 458886 words/s, in_qsize 7, out_qsize 0\n",
      "2017-05-02 11:32:22,352 : INFO : worker thread finished; awaiting finish of 3 more threads\n",
      "2017-05-02 11:32:22,361 : INFO : worker thread finished; awaiting finish of 2 more threads\n",
      "2017-05-02 11:32:22,370 : INFO : worker thread finished; awaiting finish of 1 more threads\n",
      "2017-05-02 11:32:22,371 : INFO : worker thread finished; awaiting finish of 0 more threads\n",
      "2017-05-02 11:32:22,372 : INFO : training on 89497450 raw words (64305988 effective words) took 140.1s, 459044 effective words/s\n"
     ]
    }
   ],
   "source": [
    "# Initialize and train the model (this will take some time)\n",
    "from gensim.models import word2vec\n",
    "print(\"Training model...\")\n",
    "model = word2vec.Word2Vec(sentences, workers=num_workers, \n",
    "            size=num_features, min_count = min_word_count,\n",
    "            window = context, sample = downsampling)"
   ]
  },
  {
   "cell_type": "code",
   "execution_count": 16,
   "metadata": {
    "collapsed": false,
    "deletable": true,
    "editable": true
   },
   "outputs": [
    {
     "name": "stderr",
     "output_type": "stream",
     "text": [
      "2017-05-02 11:32:22,381 : INFO : precomputing L2-norms of word weight vectors\n",
      "2017-05-02 11:32:22,563 : INFO : saving Word2Vec object under 300features_40minwords_10context, separately None\n",
      "2017-05-02 11:32:22,564 : INFO : not storing attribute syn0norm\n",
      "2017-05-02 11:32:22,568 : INFO : not storing attribute cum_table\n",
      "2017-05-02 11:32:23,432 : INFO : saved 300features_40minwords_10context\n"
     ]
    }
   ],
   "source": [
    "# If you don't plan to train the model any further, calling \n",
    "# init_sims will make the model much more memory-efficient.\n",
    "model.init_sims(replace=True)\n",
    "\n",
    "# It can be helpful to create a meaningful model name and \n",
    "# save the model for later use. You can load it later using Word2Vec.load()\n",
    "model_name = \"300features_40minwords_10context\"\n",
    "model.save(model_name)"
   ]
  },
  {
   "cell_type": "code",
   "execution_count": 17,
   "metadata": {
    "collapsed": false,
    "deletable": true,
    "editable": true
   },
   "outputs": [
    {
     "data": {
      "text/plain": [
       "'kitchen'"
      ]
     },
     "execution_count": 17,
     "metadata": {},
     "output_type": "execute_result"
    }
   ],
   "source": [
    "model.doesnt_match(\"man woman child kitchen\".split())"
   ]
  },
  {
   "cell_type": "code",
   "execution_count": 24,
   "metadata": {
    "collapsed": false,
    "deletable": true,
    "editable": true
   },
   "outputs": [
    {
     "name": "stderr",
     "output_type": "stream",
     "text": [
      "2017-05-02 11:01:19,921 : WARNING : vectors for words {'I'} are not present in the model, ignoring these words\n"
     ]
    },
    {
     "data": {
      "text/plain": [
       "'am'"
      ]
     },
     "execution_count": 24,
     "metadata": {},
     "output_type": "execute_result"
    }
   ],
   "source": [
    "model.doesnt_match(\"I am hungry\".split())"
   ]
  },
  {
   "cell_type": "code",
   "execution_count": 25,
   "metadata": {
    "collapsed": false,
    "deletable": true,
    "editable": true
   },
   "outputs": [
    {
     "data": {
      "text/plain": [
       "[('woman', 0.6317477226257324),\n",
       " ('lady', 0.6066347360610962),\n",
       " ('lad', 0.5479551553726196),\n",
       " ('farmer', 0.540192723274231),\n",
       " ('millionaire', 0.5335596203804016),\n",
       " ('guy', 0.5265986919403076),\n",
       " ('monk', 0.5264548659324646),\n",
       " ('person', 0.5196757316589355),\n",
       " ('chap', 0.512682318687439),\n",
       " ('soldier', 0.5124808549880981)]"
      ]
     },
     "execution_count": 25,
     "metadata": {},
     "output_type": "execute_result"
    }
   ],
   "source": [
    "model.most_similar(\"man\")"
   ]
  },
  {
   "cell_type": "code",
   "execution_count": 26,
   "metadata": {
    "collapsed": false,
    "deletable": true,
    "editable": true
   },
   "outputs": [
    {
     "data": {
      "text/plain": [
       "[('princess', 0.6397346258163452),\n",
       " ('bride', 0.6060532331466675),\n",
       " ('stepmother', 0.5990087389945984),\n",
       " ('maid', 0.5953603982925415),\n",
       " ('prince', 0.5906099081039429),\n",
       " ('angela', 0.5871610641479492),\n",
       " ('maria', 0.5840234756469727),\n",
       " ('mistress', 0.581631600856781),\n",
       " ('goddess', 0.5792825222015381),\n",
       " ('belle', 0.5730113387107849)]"
      ]
     },
     "execution_count": 26,
     "metadata": {},
     "output_type": "execute_result"
    }
   ],
   "source": [
    "model.most_similar(\"queen\")"
   ]
  },
  {
   "cell_type": "code",
   "execution_count": 27,
   "metadata": {
    "collapsed": false,
    "deletable": true,
    "editable": true
   },
   "outputs": [
    {
     "data": {
      "text/plain": [
       "[('terrible', 0.781831681728363),\n",
       " ('horrible', 0.7378334999084473),\n",
       " ('atrocious', 0.7155860662460327),\n",
       " ('dreadful', 0.6856135129928589),\n",
       " ('horrendous', 0.6822841167449951),\n",
       " ('abysmal', 0.6791336536407471),\n",
       " ('appalling', 0.6649953126907349),\n",
       " ('horrid', 0.6306585073471069),\n",
       " ('lousy', 0.6210367679595947),\n",
       " ('amateurish', 0.6181128025054932)]"
      ]
     },
     "execution_count": 27,
     "metadata": {},
     "output_type": "execute_result"
    }
   ],
   "source": [
    "model.most_similar(\"awful\")"
   ]
  },
  {
   "cell_type": "code",
   "execution_count": 37,
   "metadata": {
    "collapsed": false,
    "deletable": true,
    "editable": true
   },
   "outputs": [
    {
     "data": {
      "text/plain": [
       "[('0', 0.7278952598571777),\n",
       " ('4', 0.7199603915214539),\n",
       " ('3', 0.6588741540908813),\n",
       " ('ratio', 0.6184767484664917),\n",
       " ('2', 0.6152806282043457),\n",
       " ('7', 0.6093538403511047),\n",
       " ('zombi', 0.60548996925354),\n",
       " ('6', 0.6006932258605957),\n",
       " ('10', 0.5987155437469482),\n",
       " ('99', 0.5905357599258423)]"
      ]
     },
     "execution_count": 37,
     "metadata": {},
     "output_type": "execute_result"
    }
   ],
   "source": [
    "model.most_similar(\"1\")"
   ]
  },
  {
   "cell_type": "markdown",
   "metadata": {
    "deletable": true,
    "editable": true
   },
   "source": [
    "# Checking functions"
   ]
  },
  {
   "cell_type": "code",
   "execution_count": 28,
   "metadata": {
    "collapsed": true,
    "deletable": true,
    "editable": true
   },
   "outputs": [],
   "source": [
    "r = 'Our model is capable of distinguishing differences in meaning! \\\n",
    "    It knows that men, women and children are more similar to each other than they are to kitchens.'"
   ]
  },
  {
   "cell_type": "code",
   "execution_count": 29,
   "metadata": {
    "collapsed": false,
    "deletable": true,
    "editable": true
   },
   "outputs": [
    {
     "data": {
      "text/plain": [
       "'Our model is capable of distinguishing differences in meaning!     It knows that men, women and children are more similar to each other than they are to kitchens.'"
      ]
     },
     "execution_count": 29,
     "metadata": {},
     "output_type": "execute_result"
    }
   ],
   "source": [
    "r.strip()"
   ]
  },
  {
   "cell_type": "code",
   "execution_count": 30,
   "metadata": {
    "collapsed": true,
    "deletable": true,
    "editable": true
   },
   "outputs": [],
   "source": [
    "raw_r = tokenizer.tokenize(r.strip())"
   ]
  },
  {
   "cell_type": "code",
   "execution_count": 31,
   "metadata": {
    "collapsed": false,
    "deletable": true,
    "editable": true
   },
   "outputs": [
    {
     "data": {
      "text/plain": [
       "['Our model is capable of distinguishing differences in meaning!',\n",
       " 'It knows that men, women and children are more similar to each other than they are to kitchens.']"
      ]
     },
     "execution_count": 31,
     "metadata": {},
     "output_type": "execute_result"
    }
   ],
   "source": [
    "raw_r"
   ]
  },
  {
   "cell_type": "code",
   "execution_count": 35,
   "metadata": {
    "collapsed": false,
    "deletable": true,
    "editable": true
   },
   "outputs": [],
   "source": [
    "word_list = review_to_wordlist(raw_r[0], remove_stopwords=True)"
   ]
  },
  {
   "cell_type": "code",
   "execution_count": 36,
   "metadata": {
    "collapsed": false,
    "deletable": true,
    "editable": true
   },
   "outputs": [
    {
     "data": {
      "text/plain": [
       "['model', 'capable', 'distinguishing', 'differences', 'meaning']"
      ]
     },
     "execution_count": 36,
     "metadata": {},
     "output_type": "execute_result"
    }
   ],
   "source": [
    "word_list"
   ]
  },
  {
   "cell_type": "code",
   "execution_count": null,
   "metadata": {
    "collapsed": true,
    "deletable": true,
    "editable": true
   },
   "outputs": [],
   "source": []
  }
 ],
 "metadata": {
  "kernelspec": {
   "display_name": "Python 3",
   "language": "python",
   "name": "python3"
  },
  "language_info": {
   "codemirror_mode": {
    "name": "ipython",
    "version": 3
   },
   "file_extension": ".py",
   "mimetype": "text/x-python",
   "name": "python",
   "nbconvert_exporter": "python",
   "pygments_lexer": "ipython3",
   "version": "3.5.2"
  },
  "toc": {
   "colors": {
    "hover_highlight": "#DAA520",
    "running_highlight": "#FF0000",
    "selected_highlight": "#FFD700"
   },
   "moveMenuLeft": true,
   "nav_menu": {
    "height": "12px",
    "width": "252px"
   },
   "navigate_menu": true,
   "number_sections": true,
   "sideBar": true,
   "threshold": 4,
   "toc_cell": false,
   "toc_section_display": "block",
   "toc_window_display": false
  }
 },
 "nbformat": 4,
 "nbformat_minor": 2
}
